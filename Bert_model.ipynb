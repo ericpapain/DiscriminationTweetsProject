{
  "nbformat": 4,
  "nbformat_minor": 0,
  "metadata": {
    "colab": {
      "name": "Bert_model.ipynb",
      "provenance": [],
      "toc_visible": true,
      "authorship_tag": "ABX9TyN5BEJD0LAV209CuvY58K+h",
      "include_colab_link": true
    },
    "kernelspec": {
      "name": "python3",
      "display_name": "Python 3"
    },
    "accelerator": "GPU",
    "widgets": {
      "application/vnd.jupyter.widget-state+json": {
        "76f3fd3fd9b34e789e7a129827b85c61": {
          "model_module": "@jupyter-widgets/controls",
          "model_name": "HBoxModel",
          "state": {
            "_view_name": "HBoxView",
            "_dom_classes": [],
            "_model_name": "HBoxModel",
            "_view_module": "@jupyter-widgets/controls",
            "_model_module_version": "1.5.0",
            "_view_count": null,
            "_view_module_version": "1.5.0",
            "box_style": "",
            "layout": "IPY_MODEL_274aa4bf8be84f80baa77fd64368804b",
            "_model_module": "@jupyter-widgets/controls",
            "children": [
              "IPY_MODEL_60ecce5f43504a6cb72f61dc1f05360b",
              "IPY_MODEL_8a8ea54457fa448ba67bfaa0acd67a52"
            ]
          }
        },
        "274aa4bf8be84f80baa77fd64368804b": {
          "model_module": "@jupyter-widgets/base",
          "model_name": "LayoutModel",
          "state": {
            "_view_name": "LayoutView",
            "grid_template_rows": null,
            "right": null,
            "justify_content": null,
            "_view_module": "@jupyter-widgets/base",
            "overflow": null,
            "_model_module_version": "1.2.0",
            "_view_count": null,
            "flex_flow": null,
            "width": null,
            "min_width": null,
            "border": null,
            "align_items": null,
            "bottom": null,
            "_model_module": "@jupyter-widgets/base",
            "top": null,
            "grid_column": null,
            "overflow_y": null,
            "overflow_x": null,
            "grid_auto_flow": null,
            "grid_area": null,
            "grid_template_columns": null,
            "flex": null,
            "_model_name": "LayoutModel",
            "justify_items": null,
            "grid_row": null,
            "max_height": null,
            "align_content": null,
            "visibility": null,
            "align_self": null,
            "height": null,
            "min_height": null,
            "padding": null,
            "grid_auto_rows": null,
            "grid_gap": null,
            "max_width": null,
            "order": null,
            "_view_module_version": "1.2.0",
            "grid_template_areas": null,
            "object_position": null,
            "object_fit": null,
            "grid_auto_columns": null,
            "margin": null,
            "display": null,
            "left": null
          }
        },
        "60ecce5f43504a6cb72f61dc1f05360b": {
          "model_module": "@jupyter-widgets/controls",
          "model_name": "FloatProgressModel",
          "state": {
            "_view_name": "ProgressView",
            "style": "IPY_MODEL_169c0025ae4342278d23b3797e9e9c00",
            "_dom_classes": [],
            "description": "Downloading: 100%",
            "_model_name": "FloatProgressModel",
            "bar_style": "success",
            "max": 231508,
            "_view_module": "@jupyter-widgets/controls",
            "_model_module_version": "1.5.0",
            "value": 231508,
            "_view_count": null,
            "_view_module_version": "1.5.0",
            "orientation": "horizontal",
            "min": 0,
            "description_tooltip": null,
            "_model_module": "@jupyter-widgets/controls",
            "layout": "IPY_MODEL_1f25c525192741e99499da9eb92fb09b"
          }
        },
        "8a8ea54457fa448ba67bfaa0acd67a52": {
          "model_module": "@jupyter-widgets/controls",
          "model_name": "HTMLModel",
          "state": {
            "_view_name": "HTMLView",
            "style": "IPY_MODEL_01d5df5ce77c4ed19d31e4b489413307",
            "_dom_classes": [],
            "description": "",
            "_model_name": "HTMLModel",
            "placeholder": "​",
            "_view_module": "@jupyter-widgets/controls",
            "_model_module_version": "1.5.0",
            "value": " 232k/232k [00:00&lt;00:00, 1.30MB/s]",
            "_view_count": null,
            "_view_module_version": "1.5.0",
            "description_tooltip": null,
            "_model_module": "@jupyter-widgets/controls",
            "layout": "IPY_MODEL_7bd2c2ff46fb49b182f0d51b302adfb6"
          }
        },
        "169c0025ae4342278d23b3797e9e9c00": {
          "model_module": "@jupyter-widgets/controls",
          "model_name": "ProgressStyleModel",
          "state": {
            "_view_name": "StyleView",
            "_model_name": "ProgressStyleModel",
            "description_width": "initial",
            "_view_module": "@jupyter-widgets/base",
            "_model_module_version": "1.5.0",
            "_view_count": null,
            "_view_module_version": "1.2.0",
            "bar_color": null,
            "_model_module": "@jupyter-widgets/controls"
          }
        },
        "1f25c525192741e99499da9eb92fb09b": {
          "model_module": "@jupyter-widgets/base",
          "model_name": "LayoutModel",
          "state": {
            "_view_name": "LayoutView",
            "grid_template_rows": null,
            "right": null,
            "justify_content": null,
            "_view_module": "@jupyter-widgets/base",
            "overflow": null,
            "_model_module_version": "1.2.0",
            "_view_count": null,
            "flex_flow": null,
            "width": null,
            "min_width": null,
            "border": null,
            "align_items": null,
            "bottom": null,
            "_model_module": "@jupyter-widgets/base",
            "top": null,
            "grid_column": null,
            "overflow_y": null,
            "overflow_x": null,
            "grid_auto_flow": null,
            "grid_area": null,
            "grid_template_columns": null,
            "flex": null,
            "_model_name": "LayoutModel",
            "justify_items": null,
            "grid_row": null,
            "max_height": null,
            "align_content": null,
            "visibility": null,
            "align_self": null,
            "height": null,
            "min_height": null,
            "padding": null,
            "grid_auto_rows": null,
            "grid_gap": null,
            "max_width": null,
            "order": null,
            "_view_module_version": "1.2.0",
            "grid_template_areas": null,
            "object_position": null,
            "object_fit": null,
            "grid_auto_columns": null,
            "margin": null,
            "display": null,
            "left": null
          }
        },
        "01d5df5ce77c4ed19d31e4b489413307": {
          "model_module": "@jupyter-widgets/controls",
          "model_name": "DescriptionStyleModel",
          "state": {
            "_view_name": "StyleView",
            "_model_name": "DescriptionStyleModel",
            "description_width": "",
            "_view_module": "@jupyter-widgets/base",
            "_model_module_version": "1.5.0",
            "_view_count": null,
            "_view_module_version": "1.2.0",
            "_model_module": "@jupyter-widgets/controls"
          }
        },
        "7bd2c2ff46fb49b182f0d51b302adfb6": {
          "model_module": "@jupyter-widgets/base",
          "model_name": "LayoutModel",
          "state": {
            "_view_name": "LayoutView",
            "grid_template_rows": null,
            "right": null,
            "justify_content": null,
            "_view_module": "@jupyter-widgets/base",
            "overflow": null,
            "_model_module_version": "1.2.0",
            "_view_count": null,
            "flex_flow": null,
            "width": null,
            "min_width": null,
            "border": null,
            "align_items": null,
            "bottom": null,
            "_model_module": "@jupyter-widgets/base",
            "top": null,
            "grid_column": null,
            "overflow_y": null,
            "overflow_x": null,
            "grid_auto_flow": null,
            "grid_area": null,
            "grid_template_columns": null,
            "flex": null,
            "_model_name": "LayoutModel",
            "justify_items": null,
            "grid_row": null,
            "max_height": null,
            "align_content": null,
            "visibility": null,
            "align_self": null,
            "height": null,
            "min_height": null,
            "padding": null,
            "grid_auto_rows": null,
            "grid_gap": null,
            "max_width": null,
            "order": null,
            "_view_module_version": "1.2.0",
            "grid_template_areas": null,
            "object_position": null,
            "object_fit": null,
            "grid_auto_columns": null,
            "margin": null,
            "display": null,
            "left": null
          }
        },
        "e3cabad8334c4af991b16e2d01637570": {
          "model_module": "@jupyter-widgets/controls",
          "model_name": "HBoxModel",
          "state": {
            "_view_name": "HBoxView",
            "_dom_classes": [],
            "_model_name": "HBoxModel",
            "_view_module": "@jupyter-widgets/controls",
            "_model_module_version": "1.5.0",
            "_view_count": null,
            "_view_module_version": "1.5.0",
            "box_style": "",
            "layout": "IPY_MODEL_92762ca52d40475c9c80861f30bd247f",
            "_model_module": "@jupyter-widgets/controls",
            "children": [
              "IPY_MODEL_36ee34e115324bd394cbdb4baf12afa5",
              "IPY_MODEL_4e6f69d62f534a2bbdc82654e256bf40"
            ]
          }
        },
        "92762ca52d40475c9c80861f30bd247f": {
          "model_module": "@jupyter-widgets/base",
          "model_name": "LayoutModel",
          "state": {
            "_view_name": "LayoutView",
            "grid_template_rows": null,
            "right": null,
            "justify_content": null,
            "_view_module": "@jupyter-widgets/base",
            "overflow": null,
            "_model_module_version": "1.2.0",
            "_view_count": null,
            "flex_flow": null,
            "width": null,
            "min_width": null,
            "border": null,
            "align_items": null,
            "bottom": null,
            "_model_module": "@jupyter-widgets/base",
            "top": null,
            "grid_column": null,
            "overflow_y": null,
            "overflow_x": null,
            "grid_auto_flow": null,
            "grid_area": null,
            "grid_template_columns": null,
            "flex": null,
            "_model_name": "LayoutModel",
            "justify_items": null,
            "grid_row": null,
            "max_height": null,
            "align_content": null,
            "visibility": null,
            "align_self": null,
            "height": null,
            "min_height": null,
            "padding": null,
            "grid_auto_rows": null,
            "grid_gap": null,
            "max_width": null,
            "order": null,
            "_view_module_version": "1.2.0",
            "grid_template_areas": null,
            "object_position": null,
            "object_fit": null,
            "grid_auto_columns": null,
            "margin": null,
            "display": null,
            "left": null
          }
        },
        "36ee34e115324bd394cbdb4baf12afa5": {
          "model_module": "@jupyter-widgets/controls",
          "model_name": "FloatProgressModel",
          "state": {
            "_view_name": "ProgressView",
            "style": "IPY_MODEL_5e432cc7449148e88fcff0f4a418f3e8",
            "_dom_classes": [],
            "description": "Downloading: 100%",
            "_model_name": "FloatProgressModel",
            "bar_style": "success",
            "max": 433,
            "_view_module": "@jupyter-widgets/controls",
            "_model_module_version": "1.5.0",
            "value": 433,
            "_view_count": null,
            "_view_module_version": "1.5.0",
            "orientation": "horizontal",
            "min": 0,
            "description_tooltip": null,
            "_model_module": "@jupyter-widgets/controls",
            "layout": "IPY_MODEL_f43b079d198047058511e737976da239"
          }
        },
        "4e6f69d62f534a2bbdc82654e256bf40": {
          "model_module": "@jupyter-widgets/controls",
          "model_name": "HTMLModel",
          "state": {
            "_view_name": "HTMLView",
            "style": "IPY_MODEL_c15b6523235b457db9bd66e1672af3a6",
            "_dom_classes": [],
            "description": "",
            "_model_name": "HTMLModel",
            "placeholder": "​",
            "_view_module": "@jupyter-widgets/controls",
            "_model_module_version": "1.5.0",
            "value": " 433/433 [00:00&lt;00:00, 1.16kB/s]",
            "_view_count": null,
            "_view_module_version": "1.5.0",
            "description_tooltip": null,
            "_model_module": "@jupyter-widgets/controls",
            "layout": "IPY_MODEL_90754130a8444570b85266e4690f4277"
          }
        },
        "5e432cc7449148e88fcff0f4a418f3e8": {
          "model_module": "@jupyter-widgets/controls",
          "model_name": "ProgressStyleModel",
          "state": {
            "_view_name": "StyleView",
            "_model_name": "ProgressStyleModel",
            "description_width": "initial",
            "_view_module": "@jupyter-widgets/base",
            "_model_module_version": "1.5.0",
            "_view_count": null,
            "_view_module_version": "1.2.0",
            "bar_color": null,
            "_model_module": "@jupyter-widgets/controls"
          }
        },
        "f43b079d198047058511e737976da239": {
          "model_module": "@jupyter-widgets/base",
          "model_name": "LayoutModel",
          "state": {
            "_view_name": "LayoutView",
            "grid_template_rows": null,
            "right": null,
            "justify_content": null,
            "_view_module": "@jupyter-widgets/base",
            "overflow": null,
            "_model_module_version": "1.2.0",
            "_view_count": null,
            "flex_flow": null,
            "width": null,
            "min_width": null,
            "border": null,
            "align_items": null,
            "bottom": null,
            "_model_module": "@jupyter-widgets/base",
            "top": null,
            "grid_column": null,
            "overflow_y": null,
            "overflow_x": null,
            "grid_auto_flow": null,
            "grid_area": null,
            "grid_template_columns": null,
            "flex": null,
            "_model_name": "LayoutModel",
            "justify_items": null,
            "grid_row": null,
            "max_height": null,
            "align_content": null,
            "visibility": null,
            "align_self": null,
            "height": null,
            "min_height": null,
            "padding": null,
            "grid_auto_rows": null,
            "grid_gap": null,
            "max_width": null,
            "order": null,
            "_view_module_version": "1.2.0",
            "grid_template_areas": null,
            "object_position": null,
            "object_fit": null,
            "grid_auto_columns": null,
            "margin": null,
            "display": null,
            "left": null
          }
        },
        "c15b6523235b457db9bd66e1672af3a6": {
          "model_module": "@jupyter-widgets/controls",
          "model_name": "DescriptionStyleModel",
          "state": {
            "_view_name": "StyleView",
            "_model_name": "DescriptionStyleModel",
            "description_width": "",
            "_view_module": "@jupyter-widgets/base",
            "_model_module_version": "1.5.0",
            "_view_count": null,
            "_view_module_version": "1.2.0",
            "_model_module": "@jupyter-widgets/controls"
          }
        },
        "90754130a8444570b85266e4690f4277": {
          "model_module": "@jupyter-widgets/base",
          "model_name": "LayoutModel",
          "state": {
            "_view_name": "LayoutView",
            "grid_template_rows": null,
            "right": null,
            "justify_content": null,
            "_view_module": "@jupyter-widgets/base",
            "overflow": null,
            "_model_module_version": "1.2.0",
            "_view_count": null,
            "flex_flow": null,
            "width": null,
            "min_width": null,
            "border": null,
            "align_items": null,
            "bottom": null,
            "_model_module": "@jupyter-widgets/base",
            "top": null,
            "grid_column": null,
            "overflow_y": null,
            "overflow_x": null,
            "grid_auto_flow": null,
            "grid_area": null,
            "grid_template_columns": null,
            "flex": null,
            "_model_name": "LayoutModel",
            "justify_items": null,
            "grid_row": null,
            "max_height": null,
            "align_content": null,
            "visibility": null,
            "align_self": null,
            "height": null,
            "min_height": null,
            "padding": null,
            "grid_auto_rows": null,
            "grid_gap": null,
            "max_width": null,
            "order": null,
            "_view_module_version": "1.2.0",
            "grid_template_areas": null,
            "object_position": null,
            "object_fit": null,
            "grid_auto_columns": null,
            "margin": null,
            "display": null,
            "left": null
          }
        },
        "004bfd9fb73c48e6ac00cdf5bc57b88c": {
          "model_module": "@jupyter-widgets/controls",
          "model_name": "HBoxModel",
          "state": {
            "_view_name": "HBoxView",
            "_dom_classes": [],
            "_model_name": "HBoxModel",
            "_view_module": "@jupyter-widgets/controls",
            "_model_module_version": "1.5.0",
            "_view_count": null,
            "_view_module_version": "1.5.0",
            "box_style": "",
            "layout": "IPY_MODEL_42cf748537ee4d3db65b88f0581d580d",
            "_model_module": "@jupyter-widgets/controls",
            "children": [
              "IPY_MODEL_96a0767e43ae41888ec8d9206c1e9537",
              "IPY_MODEL_65ccd1c25f1d4a65a13f0cd6652713e5"
            ]
          }
        },
        "42cf748537ee4d3db65b88f0581d580d": {
          "model_module": "@jupyter-widgets/base",
          "model_name": "LayoutModel",
          "state": {
            "_view_name": "LayoutView",
            "grid_template_rows": null,
            "right": null,
            "justify_content": null,
            "_view_module": "@jupyter-widgets/base",
            "overflow": null,
            "_model_module_version": "1.2.0",
            "_view_count": null,
            "flex_flow": null,
            "width": null,
            "min_width": null,
            "border": null,
            "align_items": null,
            "bottom": null,
            "_model_module": "@jupyter-widgets/base",
            "top": null,
            "grid_column": null,
            "overflow_y": null,
            "overflow_x": null,
            "grid_auto_flow": null,
            "grid_area": null,
            "grid_template_columns": null,
            "flex": null,
            "_model_name": "LayoutModel",
            "justify_items": null,
            "grid_row": null,
            "max_height": null,
            "align_content": null,
            "visibility": null,
            "align_self": null,
            "height": null,
            "min_height": null,
            "padding": null,
            "grid_auto_rows": null,
            "grid_gap": null,
            "max_width": null,
            "order": null,
            "_view_module_version": "1.2.0",
            "grid_template_areas": null,
            "object_position": null,
            "object_fit": null,
            "grid_auto_columns": null,
            "margin": null,
            "display": null,
            "left": null
          }
        },
        "96a0767e43ae41888ec8d9206c1e9537": {
          "model_module": "@jupyter-widgets/controls",
          "model_name": "FloatProgressModel",
          "state": {
            "_view_name": "ProgressView",
            "style": "IPY_MODEL_8c30d95bbd3e43edbadf9eec16669ef2",
            "_dom_classes": [],
            "description": "Downloading: 100%",
            "_model_name": "FloatProgressModel",
            "bar_style": "success",
            "max": 440473133,
            "_view_module": "@jupyter-widgets/controls",
            "_model_module_version": "1.5.0",
            "value": 440473133,
            "_view_count": null,
            "_view_module_version": "1.5.0",
            "orientation": "horizontal",
            "min": 0,
            "description_tooltip": null,
            "_model_module": "@jupyter-widgets/controls",
            "layout": "IPY_MODEL_60e45f3008874a8faba45995f8376f91"
          }
        },
        "65ccd1c25f1d4a65a13f0cd6652713e5": {
          "model_module": "@jupyter-widgets/controls",
          "model_name": "HTMLModel",
          "state": {
            "_view_name": "HTMLView",
            "style": "IPY_MODEL_a4fc28d7e0d74d3b9aca68071d119acd",
            "_dom_classes": [],
            "description": "",
            "_model_name": "HTMLModel",
            "placeholder": "​",
            "_view_module": "@jupyter-widgets/controls",
            "_model_module_version": "1.5.0",
            "value": " 440M/440M [00:29&lt;00:00, 14.7MB/s]",
            "_view_count": null,
            "_view_module_version": "1.5.0",
            "description_tooltip": null,
            "_model_module": "@jupyter-widgets/controls",
            "layout": "IPY_MODEL_f1939b4a382b43c79d4bd00704e4b77f"
          }
        },
        "8c30d95bbd3e43edbadf9eec16669ef2": {
          "model_module": "@jupyter-widgets/controls",
          "model_name": "ProgressStyleModel",
          "state": {
            "_view_name": "StyleView",
            "_model_name": "ProgressStyleModel",
            "description_width": "initial",
            "_view_module": "@jupyter-widgets/base",
            "_model_module_version": "1.5.0",
            "_view_count": null,
            "_view_module_version": "1.2.0",
            "bar_color": null,
            "_model_module": "@jupyter-widgets/controls"
          }
        },
        "60e45f3008874a8faba45995f8376f91": {
          "model_module": "@jupyter-widgets/base",
          "model_name": "LayoutModel",
          "state": {
            "_view_name": "LayoutView",
            "grid_template_rows": null,
            "right": null,
            "justify_content": null,
            "_view_module": "@jupyter-widgets/base",
            "overflow": null,
            "_model_module_version": "1.2.0",
            "_view_count": null,
            "flex_flow": null,
            "width": null,
            "min_width": null,
            "border": null,
            "align_items": null,
            "bottom": null,
            "_model_module": "@jupyter-widgets/base",
            "top": null,
            "grid_column": null,
            "overflow_y": null,
            "overflow_x": null,
            "grid_auto_flow": null,
            "grid_area": null,
            "grid_template_columns": null,
            "flex": null,
            "_model_name": "LayoutModel",
            "justify_items": null,
            "grid_row": null,
            "max_height": null,
            "align_content": null,
            "visibility": null,
            "align_self": null,
            "height": null,
            "min_height": null,
            "padding": null,
            "grid_auto_rows": null,
            "grid_gap": null,
            "max_width": null,
            "order": null,
            "_view_module_version": "1.2.0",
            "grid_template_areas": null,
            "object_position": null,
            "object_fit": null,
            "grid_auto_columns": null,
            "margin": null,
            "display": null,
            "left": null
          }
        },
        "a4fc28d7e0d74d3b9aca68071d119acd": {
          "model_module": "@jupyter-widgets/controls",
          "model_name": "DescriptionStyleModel",
          "state": {
            "_view_name": "StyleView",
            "_model_name": "DescriptionStyleModel",
            "description_width": "",
            "_view_module": "@jupyter-widgets/base",
            "_model_module_version": "1.5.0",
            "_view_count": null,
            "_view_module_version": "1.2.0",
            "_model_module": "@jupyter-widgets/controls"
          }
        },
        "f1939b4a382b43c79d4bd00704e4b77f": {
          "model_module": "@jupyter-widgets/base",
          "model_name": "LayoutModel",
          "state": {
            "_view_name": "LayoutView",
            "grid_template_rows": null,
            "right": null,
            "justify_content": null,
            "_view_module": "@jupyter-widgets/base",
            "overflow": null,
            "_model_module_version": "1.2.0",
            "_view_count": null,
            "flex_flow": null,
            "width": null,
            "min_width": null,
            "border": null,
            "align_items": null,
            "bottom": null,
            "_model_module": "@jupyter-widgets/base",
            "top": null,
            "grid_column": null,
            "overflow_y": null,
            "overflow_x": null,
            "grid_auto_flow": null,
            "grid_area": null,
            "grid_template_columns": null,
            "flex": null,
            "_model_name": "LayoutModel",
            "justify_items": null,
            "grid_row": null,
            "max_height": null,
            "align_content": null,
            "visibility": null,
            "align_self": null,
            "height": null,
            "min_height": null,
            "padding": null,
            "grid_auto_rows": null,
            "grid_gap": null,
            "max_width": null,
            "order": null,
            "_view_module_version": "1.2.0",
            "grid_template_areas": null,
            "object_position": null,
            "object_fit": null,
            "grid_auto_columns": null,
            "margin": null,
            "display": null,
            "left": null
          }
        }
      }
    }
  },
  "cells": [
    {
      "cell_type": "markdown",
      "metadata": {
        "id": "view-in-github",
        "colab_type": "text"
      },
      "source": [
        "<a href=\"https://colab.research.google.com/github/ericpapain/DiscriminationTweetsProject/blob/master/Bert_model.ipynb\" target=\"_parent\"><img src=\"https://colab.research.google.com/assets/colab-badge.svg\" alt=\"Open In Colab\"/></a>"
      ]
    },
    {
      "cell_type": "code",
      "metadata": {
        "colab": {
          "base_uri": "https://localhost:8080/"
        },
        "id": "eosrJjJa4pBo",
        "outputId": "b74d2801-ffb5-4942-d993-f268ec27003c"
      },
      "source": [
        "### Initialisation de Collab dans mon drive\n",
        "from google.colab import drive\n",
        "drive.mount('/content/drive')"
      ],
      "execution_count": 1,
      "outputs": [
        {
          "output_type": "stream",
          "text": [
            "Mounted at /content/drive\n"
          ],
          "name": "stdout"
        }
      ]
    },
    {
      "cell_type": "markdown",
      "metadata": {
        "id": "A_QuyqfP56ER"
      },
      "source": [
        "## **1. Import dataset and librairies**"
      ]
    },
    {
      "cell_type": "markdown",
      "metadata": {
        "id": "OveyvAgP6Czz"
      },
      "source": [
        "#### *1.1 Import Librairies*"
      ]
    },
    {
      "cell_type": "code",
      "metadata": {
        "colab": {
          "base_uri": "https://localhost:8080/"
        },
        "id": "C7HQmqIP6LRt",
        "outputId": "cf4e5986-c483-46d9-e70a-466f41470b1f"
      },
      "source": [
        "!pip install pyspellchecker"
      ],
      "execution_count": 2,
      "outputs": [
        {
          "output_type": "stream",
          "text": [
            "Collecting pyspellchecker\n",
            "\u001b[?25l  Downloading https://files.pythonhosted.org/packages/f1/96/827c132397d0eb5731c1eda05dbfb019ede064ca8c7d0f329160ce0a4acd/pyspellchecker-0.5.5-py2.py3-none-any.whl (1.9MB)\n",
            "\u001b[K     |████████████████████████████████| 1.9MB 5.2MB/s \n",
            "\u001b[?25hInstalling collected packages: pyspellchecker\n",
            "Successfully installed pyspellchecker-0.5.5\n"
          ],
          "name": "stdout"
        }
      ]
    },
    {
      "cell_type": "code",
      "metadata": {
        "id": "d1Y3ubXL6E_-"
      },
      "source": [
        "import pandas as pd\n",
        "import numpy as np\n",
        "import re\n",
        "from spellchecker import SpellChecker\n",
        "import requests\n",
        "from datetime import datetime"
      ],
      "execution_count": 3,
      "outputs": []
    },
    {
      "cell_type": "markdown",
      "metadata": {
        "id": "9-g7WecH6UTz"
      },
      "source": [
        "#### *1.2 Import dataset*"
      ]
    },
    {
      "cell_type": "code",
      "metadata": {
        "id": "HZnNYw-E6OqV"
      },
      "source": [
        "dataset = pd.read_csv('discrimination.csv', sep=',')"
      ],
      "execution_count": 6,
      "outputs": []
    },
    {
      "cell_type": "code",
      "metadata": {
        "id": "MMgp_Sj26XAN"
      },
      "source": [
        "discriminant_Dataset = dataset.iloc[:,[1,3]]"
      ],
      "execution_count": 7,
      "outputs": []
    },
    {
      "cell_type": "code",
      "metadata": {
        "id": "PwCM-ZHx8Y4d",
        "colab": {
          "base_uri": "https://localhost:8080/"
        },
        "outputId": "4d705558-e693-4f2c-ef33-72dc045df848"
      },
      "source": [
        "discriminant_Dataset.sample"
      ],
      "execution_count": 8,
      "outputs": [
        {
          "output_type": "execute_result",
          "data": {
            "text/plain": [
              "<bound method NDFrame.sample of                                                   Tweets  Labels\n",
              "0      @TVBachelor @NewJerzeyBoy what about the femin...       1\n",
              "1      @ThelmaSleaze uh... did you watch the video? o...       1\n",
              "2      Managed to hit a bird and a small rodent on my...       1\n",
              "3      If you believe a #holohoax or #gays, LGBT &amp...       1\n",
              "4      Rid yourself of #Feminazi, #Fag &amp; #Jewf. E...       1\n",
              "...                                                  ...     ...\n",
              "22899  #MKR that wiped that horrible smile off Kat's ...       1\n",
              "22900  RT @Oneiorosgrip: #adviceforyoungfeminists Lea...       1\n",
              "22901  RT @Keltonsexy250 I'm concerned for the girls ...       1\n",
              "22902  RT @melbsonmymind: NO. NO NO NO NO NO NO NO. G...       1\n",
              "22903  A hit with 5-year-olds @adnan_bahatti55 Don't ...       1\n",
              "\n",
              "[22904 rows x 2 columns]>"
            ]
          },
          "metadata": {
            "tags": []
          },
          "execution_count": 8
        }
      ]
    },
    {
      "cell_type": "markdown",
      "metadata": {
        "id": "3lIwd7e6_Ju6"
      },
      "source": [
        "## **2. Tokenization and Input Formatting**"
      ]
    },
    {
      "cell_type": "code",
      "metadata": {
        "id": "tcghjPv1-Wfq"
      },
      "source": [
        "def data_cleaning(dataset):\n",
        "    '''\n",
        "        df : DataFrame \n",
        "    '''\n",
        "    #capture du temps d'exécution du programme\n",
        "    start_time = datetime.now()\n",
        "    for i in range(len(dataset)):\n",
        "        # Mise en minuscule \n",
        "        dataset['Tweets'][i] = dataset['Tweets'][i].lower()\n",
        "        #suppression des carractère spéciaux\n",
        "        dataset['Tweets'][i]=re.sub(r'(&#[0-9]*;)', ' ',dataset['Tweets'][i])\n",
        "        #suppression des annotations, des noms et tag inutile\n",
        "        dataset['Tweets'][i]=re.sub(r'(@.*?)[\\s]', ' ',dataset['Tweets'][i])\n",
        "        # Replace '&amp;' par '&'\n",
        "        dataset['Tweets'][i] = re.sub(r'&amp;', '&', dataset['Tweets'][i])\n",
        "        #suppression urls\n",
        "        dataset['Tweets'][i]=re.sub(r'(https|http)?:\\/\\/(\\w|\\.|\\/|\\?|\\=|\\&|\\%)*\\b', ' ',dataset['Tweets'][i])\n",
        "        #suppression des retweets\n",
        "        dataset['Tweets'][i]=re.sub(r'rt', ' ',dataset['Tweets'][i])\n",
        "        # Suppression des espaces de fin de ligne\n",
        "        dataset['Tweets'][i] = re.sub(r'\\s+', ' ', dataset['Tweets'][i]).strip()\n",
        "  \n",
        "    #capture temps de fin\n",
        "    end_time = datetime.now()\n",
        "    print(\">>>>> le data cleanning à pris :\",(end_time-start_time),\" secondes.\")\n",
        "    return dataset"
      ],
      "execution_count": 9,
      "outputs": []
    },
    {
      "cell_type": "markdown",
      "metadata": {
        "id": "aG9pCfIx_pWg"
      },
      "source": [
        "### *- Gestion des mots ecris en verlang, argo, etc...*"
      ]
    },
    {
      "cell_type": "code",
      "metadata": {
        "id": "c8yIHSX0_mOu"
      },
      "source": [
        "#parcours de chaque mot dans un tweet\n",
        "def remplace_word_abbreviation(dataset_clean,file_txt):\n",
        "    start_time = datetime.now()\n",
        "    list_word=[]\n",
        "    new_list_word=[]\n",
        "    dico_word_abrev={}\n",
        "    #chargement du dico des abrev\n",
        "    a_file = open(file_txt)\n",
        "    for line in a_file:\n",
        "        value = line.split(\",\")\n",
        "        #list_word.append(value)\n",
        "    for val in value:\n",
        "        valN = val.strip(\"{}\")\n",
        "        list_word.append(valN)\n",
        "    for val in list_word:\n",
        "        valN = val.split(\":\")\n",
        "        try:\n",
        "            key = valN[0]\n",
        "            val_key = valN[1]\n",
        "            dico_word_abrev[key] = val_key\n",
        "        except:\n",
        "            #print(key, \"------------------------\",val_key)\n",
        "            del val\n",
        "            pass\n",
        "    for word_dico,values in dico_word_abrev.items():\n",
        "        for i in range(len(dataset_clean)):\n",
        "            tweet = list((dataset_clean['Tweets'][i]).split())\n",
        "            #positionnement au premier mot\n",
        "            j=0\n",
        "            for word in tweet:\n",
        "                #recupération du mot en non abrégé\n",
        "                if(word == word_dico):\n",
        "                    #remplacement dans le tweet\n",
        "                    tweet[j]=values\n",
        "                #tweet suivant\n",
        "                j=j+1\n",
        "            if(j==0):\n",
        "                pass\n",
        "            else:\n",
        "                #mise a jour du tweet dans le dataset\n",
        "                dataset['Tweets'][i] = ' '.join(tweet)\n",
        "            #if(i==len(dataset_clean)-1):\n",
        "                #print(i)\n",
        "    end_time = datetime.now()\n",
        "    print(\">>>>> le remplacement des mots abégé et ecris en argo à pris :\",(end_time-start_time),\" secondes.\")\n",
        "\n",
        "    return dataset"
      ],
      "execution_count": 10,
      "outputs": []
    },
    {
      "cell_type": "markdown",
      "metadata": {
        "id": "IRaAVHit_un4"
      },
      "source": [
        "### *- Gestion des fautes de grammaires et d'orthographe, mots mal écris etc ...*"
      ]
    },
    {
      "cell_type": "code",
      "metadata": {
        "id": "3Si8WCkj_saM"
      },
      "source": [
        "#recherche de mot mal écrit\n",
        "def spelling_word_in_tweet(dataset_clean):\n",
        "    \n",
        "    start_time = datetime.now()\n",
        "    \n",
        "    spell = SpellChecker(language='en',distance=1)\n",
        "    dico_correction_orthographe = {}\n",
        "    \n",
        "    for i in range(len(dataset_clean)):\n",
        "        tweet = list((dataset_clean['Tweets'][i]).split())\n",
        "        j=0\n",
        "        for word in tweet:\n",
        "            # Get the one `most likely` answer\n",
        "            #print(\"next : \",word,\" newww :\",spell.correction(word))\n",
        "            mot = spell.correction(word)\n",
        "            # Get a list of `likely` options\n",
        "           # print(spell.candidates(word))\n",
        "            if(mot==word):\n",
        "                pass\n",
        "            else:\n",
        "                #construction du dico des abréviation trouvé\n",
        "                #print(mot,word)\n",
        "                dico_correction_orthographe[word]=mot\n",
        "                tweet[j]=mot\n",
        "                #print(\"tweet number : \",i,\" i was :\",word,\" now i'm \",true_val)\n",
        "            j=j+1\n",
        "            #print(r.text[startIndex:endIndex])\n",
        "        if(j==0):\n",
        "            pass\n",
        "        else:\n",
        "            #mise a jour du tweet\n",
        "            dataset_clean['Tweets'][i] = ' '.join(tweet)\n",
        "            dataset_clean['Tweets'][i] = dataset_clean['Tweets'][i].lower()\n",
        "        #if((i+1)%len(dataset_clean)==0):\n",
        "            #print(i,\": tous les tweets ont été corrigé !!!\")\n",
        "    \n",
        "    end_time = datetime.now()\n",
        "    print(\">>>>> le remplacement des mots mal écris ( fautes d'othographes et de grammaires) à pris :\",(end_time-start_time),\" secondes.\")\n",
        "    \n",
        "    return dico_correction_orthographe, dataset"
      ],
      "execution_count": 11,
      "outputs": []
    },
    {
      "cell_type": "markdown",
      "metadata": {
        "id": "58KiozE7mkJH"
      },
      "source": [
        "### *- Fonctions de prétraitement*\n",
        "- datacleaning\n",
        "- gestion abreviation\n",
        "- gestion des spelling word"
      ]
    },
    {
      "cell_type": "code",
      "metadata": {
        "id": "fEe40q8G_x6R"
      },
      "source": [
        "def traitemnet_before_bert_tokenization(dataset):\n",
        "    #import file abrev \n",
        "    file = \"dico_abrev.txt\"\n",
        "    # small cleaning\n",
        "    dataset_clean=data_cleaning(dataset)\n",
        "    # abreviation subtitution\n",
        "    dataset_with_abrev_ok=remplace_word_abbreviation(dataset_clean,file)\n",
        "    # manage spelling word\n",
        "    _, dataset_spell_ok=spelling_word_in_tweet(dataset_with_abrev_ok)\n",
        "    \n",
        "    return dataset_spell_ok"
      ],
      "execution_count": 12,
      "outputs": []
    },
    {
      "cell_type": "markdown",
      "metadata": {
        "id": "A_Wxj_AMnRPV"
      },
      "source": [
        "## *------ Lancement du pretraitement sur notre jeu de donnée -----*"
      ]
    },
    {
      "cell_type": "code",
      "metadata": {
        "colab": {
          "base_uri": "https://localhost:8080/"
        },
        "id": "W9JfDXTM_0YF",
        "outputId": "13846053-4de7-4c7f-d64c-f35a537abc1b"
      },
      "source": [
        "#small traitemnt\n",
        "discriminant_Dataset = traitemnet_before_bert_tokenization(discriminant_Dataset)"
      ],
      "execution_count": 13,
      "outputs": [
        {
          "output_type": "stream",
          "text": [
            "/usr/local/lib/python3.6/dist-packages/ipykernel_launcher.py:9: SettingWithCopyWarning: \n",
            "A value is trying to be set on a copy of a slice from a DataFrame\n",
            "\n",
            "See the caveats in the documentation: https://pandas.pydata.org/pandas-docs/stable/user_guide/indexing.html#returning-a-view-versus-a-copy\n",
            "  if __name__ == '__main__':\n",
            "/usr/local/lib/python3.6/dist-packages/ipykernel_launcher.py:5: SettingWithCopyWarning: \n",
            "A value is trying to be set on a copy of a slice from a DataFrame\n",
            "\n",
            "See the caveats in the documentation: https://pandas.pydata.org/pandas-docs/stable/user_guide/indexing.html#returning-a-view-versus-a-copy\n",
            "  \"\"\"\n",
            "/usr/local/lib/python3.6/dist-packages/ipykernel_launcher.py:11: SettingWithCopyWarning: \n",
            "A value is trying to be set on a copy of a slice from a DataFrame\n",
            "\n",
            "See the caveats in the documentation: https://pandas.pydata.org/pandas-docs/stable/user_guide/indexing.html#returning-a-view-versus-a-copy\n",
            "  # This is added back by InteractiveShellApp.init_path()\n",
            "/usr/local/lib/python3.6/dist-packages/ipykernel_launcher.py:13: SettingWithCopyWarning: \n",
            "A value is trying to be set on a copy of a slice from a DataFrame\n",
            "\n",
            "See the caveats in the documentation: https://pandas.pydata.org/pandas-docs/stable/user_guide/indexing.html#returning-a-view-versus-a-copy\n",
            "  del sys.path[0]\n",
            "/usr/local/lib/python3.6/dist-packages/ipykernel_launcher.py:15: SettingWithCopyWarning: \n",
            "A value is trying to be set on a copy of a slice from a DataFrame\n",
            "\n",
            "See the caveats in the documentation: https://pandas.pydata.org/pandas-docs/stable/user_guide/indexing.html#returning-a-view-versus-a-copy\n",
            "  from ipykernel import kernelapp as app\n",
            "/usr/local/lib/python3.6/dist-packages/ipykernel_launcher.py:17: SettingWithCopyWarning: \n",
            "A value is trying to be set on a copy of a slice from a DataFrame\n",
            "\n",
            "See the caveats in the documentation: https://pandas.pydata.org/pandas-docs/stable/user_guide/indexing.html#returning-a-view-versus-a-copy\n",
            "/usr/local/lib/python3.6/dist-packages/ipykernel_launcher.py:19: SettingWithCopyWarning: \n",
            "A value is trying to be set on a copy of a slice from a DataFrame\n",
            "\n",
            "See the caveats in the documentation: https://pandas.pydata.org/pandas-docs/stable/user_guide/indexing.html#returning-a-view-versus-a-copy\n",
            "/usr/local/lib/python3.6/dist-packages/ipykernel_launcher.py:21: SettingWithCopyWarning: \n",
            "A value is trying to be set on a copy of a slice from a DataFrame\n",
            "\n",
            "See the caveats in the documentation: https://pandas.pydata.org/pandas-docs/stable/user_guide/indexing.html#returning-a-view-versus-a-copy\n"
          ],
          "name": "stderr"
        },
        {
          "output_type": "stream",
          "text": [
            ">>>>> le data cleanning à pris : 0:00:36.336909  secondes.\n"
          ],
          "name": "stdout"
        },
        {
          "output_type": "stream",
          "text": [
            "/usr/local/lib/python3.6/dist-packages/ipykernel_launcher.py:41: SettingWithCopyWarning: \n",
            "A value is trying to be set on a copy of a slice from a DataFrame\n",
            "\n",
            "See the caveats in the documentation: https://pandas.pydata.org/pandas-docs/stable/user_guide/indexing.html#returning-a-view-versus-a-copy\n"
          ],
          "name": "stderr"
        },
        {
          "output_type": "stream",
          "text": [
            ">>>>> le remplacement des mots abégé et ecris en argo à pris : 0:49:48.832839  secondes.\n"
          ],
          "name": "stdout"
        },
        {
          "output_type": "stream",
          "text": [
            "/usr/local/lib/python3.6/dist-packages/ipykernel_launcher.py:32: SettingWithCopyWarning: \n",
            "A value is trying to be set on a copy of a slice from a DataFrame\n",
            "\n",
            "See the caveats in the documentation: https://pandas.pydata.org/pandas-docs/stable/user_guide/indexing.html#returning-a-view-versus-a-copy\n",
            "/usr/local/lib/python3.6/dist-packages/ipykernel_launcher.py:33: SettingWithCopyWarning: \n",
            "A value is trying to be set on a copy of a slice from a DataFrame\n",
            "\n",
            "See the caveats in the documentation: https://pandas.pydata.org/pandas-docs/stable/user_guide/indexing.html#returning-a-view-versus-a-copy\n"
          ],
          "name": "stderr"
        },
        {
          "output_type": "stream",
          "text": [
            ">>>>> le remplacement des mots mal écris ( fautes d'othographes et de grammaires) à pris : 0:00:58.365109  secondes.\n"
          ],
          "name": "stdout"
        }
      ]
    },
    {
      "cell_type": "markdown",
      "metadata": {
        "id": "qfPZ96dSn71x"
      },
      "source": [
        "### *--- Division de notre jeux de donnée en jeu d'entrainement et de test ---*"
      ]
    },
    {
      "cell_type": "code",
      "metadata": {
        "id": "0gwsCIJJ6cWj"
      },
      "source": [
        "# division de notre jeu de donnée en jeu d'entrainement et de test\n",
        "discriminant_Dataset['split']= np.random.randn(discriminant_Dataset.shape[0], 1)\n",
        "msk = np.random.rand(len(discriminant_Dataset)) <= 0.9\n",
        "#data_train et data_test\n",
        "data_train = discriminant_Dataset[msk]\n",
        "data_test = discriminant_Dataset[~msk]\n",
        "\n",
        "data_train = data_train.iloc[:,[1,3]]\n",
        "data_test = data_test.iloc[:,[1,3]]"
      ],
      "execution_count": 15,
      "outputs": []
    },
    {
      "cell_type": "markdown",
      "metadata": {
        "id": "rrTbQlSm_60O"
      },
      "source": [
        "#### *Training/Validation Split*\n"
      ]
    },
    {
      "cell_type": "code",
      "metadata": {
        "id": "D703_ETa_9Xm"
      },
      "source": [
        "from sklearn.model_selection import train_test_split"
      ],
      "execution_count": 16,
      "outputs": []
    },
    {
      "cell_type": "code",
      "metadata": {
        "id": "L3cbQqI0AUbW"
      },
      "source": [
        "#for discriminant data\n",
        "X_discri_train, X_discri_val, y_discri_train, y_discri_val = train_test_split(data_train['Tweets'], \n",
        "                                                  data_train['Labels'], \n",
        "                                                  test_size=0.10, \n",
        "                                                  random_state=2020, \n",
        "                                                  stratify=data_train['Labels'])"
      ],
      "execution_count": 17,
      "outputs": []
    },
    {
      "cell_type": "markdown",
      "metadata": {
        "id": "oqlYjFOVAl73"
      },
      "source": [
        "#### *2.1. BERT Tokenizer*"
      ]
    },
    {
      "cell_type": "code",
      "metadata": {
        "colab": {
          "base_uri": "https://localhost:8080/"
        },
        "id": "HgNTu7KsaCQW",
        "outputId": "5eb375af-62f8-48bc-ca20-e913e6c16e0a"
      },
      "source": [
        "!pip install transformers"
      ],
      "execution_count": 18,
      "outputs": [
        {
          "output_type": "stream",
          "text": [
            "Collecting transformers\n",
            "\u001b[?25l  Downloading https://files.pythonhosted.org/packages/50/0c/7d5950fcd80b029be0a8891727ba21e0cd27692c407c51261c3c921f6da3/transformers-4.1.1-py3-none-any.whl (1.5MB)\n",
            "\r\u001b[K     |▏                               | 10kB 22.1MB/s eta 0:00:01\r\u001b[K     |▍                               | 20kB 11.3MB/s eta 0:00:01\r\u001b[K     |▋                               | 30kB 9.1MB/s eta 0:00:01\r\u001b[K     |▉                               | 40kB 8.1MB/s eta 0:00:01\r\u001b[K     |█                               | 51kB 5.2MB/s eta 0:00:01\r\u001b[K     |█▎                              | 61kB 5.7MB/s eta 0:00:01\r\u001b[K     |█▌                              | 71kB 6.1MB/s eta 0:00:01\r\u001b[K     |█▊                              | 81kB 6.3MB/s eta 0:00:01\r\u001b[K     |██                              | 92kB 6.4MB/s eta 0:00:01\r\u001b[K     |██▏                             | 102kB 6.7MB/s eta 0:00:01\r\u001b[K     |██▍                             | 112kB 6.7MB/s eta 0:00:01\r\u001b[K     |██▋                             | 122kB 6.7MB/s eta 0:00:01\r\u001b[K     |██▉                             | 133kB 6.7MB/s eta 0:00:01\r\u001b[K     |███                             | 143kB 6.7MB/s eta 0:00:01\r\u001b[K     |███▎                            | 153kB 6.7MB/s eta 0:00:01\r\u001b[K     |███▌                            | 163kB 6.7MB/s eta 0:00:01\r\u001b[K     |███▊                            | 174kB 6.7MB/s eta 0:00:01\r\u001b[K     |████                            | 184kB 6.7MB/s eta 0:00:01\r\u001b[K     |████▏                           | 194kB 6.7MB/s eta 0:00:01\r\u001b[K     |████▎                           | 204kB 6.7MB/s eta 0:00:01\r\u001b[K     |████▌                           | 215kB 6.7MB/s eta 0:00:01\r\u001b[K     |████▊                           | 225kB 6.7MB/s eta 0:00:01\r\u001b[K     |█████                           | 235kB 6.7MB/s eta 0:00:01\r\u001b[K     |█████▏                          | 245kB 6.7MB/s eta 0:00:01\r\u001b[K     |█████▍                          | 256kB 6.7MB/s eta 0:00:01\r\u001b[K     |█████▋                          | 266kB 6.7MB/s eta 0:00:01\r\u001b[K     |█████▉                          | 276kB 6.7MB/s eta 0:00:01\r\u001b[K     |██████                          | 286kB 6.7MB/s eta 0:00:01\r\u001b[K     |██████▎                         | 296kB 6.7MB/s eta 0:00:01\r\u001b[K     |██████▌                         | 307kB 6.7MB/s eta 0:00:01\r\u001b[K     |██████▊                         | 317kB 6.7MB/s eta 0:00:01\r\u001b[K     |███████                         | 327kB 6.7MB/s eta 0:00:01\r\u001b[K     |███████▏                        | 337kB 6.7MB/s eta 0:00:01\r\u001b[K     |███████▍                        | 348kB 6.7MB/s eta 0:00:01\r\u001b[K     |███████▋                        | 358kB 6.7MB/s eta 0:00:01\r\u001b[K     |███████▉                        | 368kB 6.7MB/s eta 0:00:01\r\u001b[K     |████████                        | 378kB 6.7MB/s eta 0:00:01\r\u001b[K     |████████▎                       | 389kB 6.7MB/s eta 0:00:01\r\u001b[K     |████████▌                       | 399kB 6.7MB/s eta 0:00:01\r\u001b[K     |████████▋                       | 409kB 6.7MB/s eta 0:00:01\r\u001b[K     |████████▉                       | 419kB 6.7MB/s eta 0:00:01\r\u001b[K     |█████████                       | 430kB 6.7MB/s eta 0:00:01\r\u001b[K     |█████████▎                      | 440kB 6.7MB/s eta 0:00:01\r\u001b[K     |█████████▌                      | 450kB 6.7MB/s eta 0:00:01\r\u001b[K     |█████████▊                      | 460kB 6.7MB/s eta 0:00:01\r\u001b[K     |██████████                      | 471kB 6.7MB/s eta 0:00:01\r\u001b[K     |██████████▏                     | 481kB 6.7MB/s eta 0:00:01\r\u001b[K     |██████████▍                     | 491kB 6.7MB/s eta 0:00:01\r\u001b[K     |██████████▋                     | 501kB 6.7MB/s eta 0:00:01\r\u001b[K     |██████████▉                     | 512kB 6.7MB/s eta 0:00:01\r\u001b[K     |███████████                     | 522kB 6.7MB/s eta 0:00:01\r\u001b[K     |███████████▎                    | 532kB 6.7MB/s eta 0:00:01\r\u001b[K     |███████████▌                    | 542kB 6.7MB/s eta 0:00:01\r\u001b[K     |███████████▊                    | 552kB 6.7MB/s eta 0:00:01\r\u001b[K     |████████████                    | 563kB 6.7MB/s eta 0:00:01\r\u001b[K     |████████████▏                   | 573kB 6.7MB/s eta 0:00:01\r\u001b[K     |████████████▍                   | 583kB 6.7MB/s eta 0:00:01\r\u001b[K     |████████████▋                   | 593kB 6.7MB/s eta 0:00:01\r\u001b[K     |████████████▉                   | 604kB 6.7MB/s eta 0:00:01\r\u001b[K     |█████████████                   | 614kB 6.7MB/s eta 0:00:01\r\u001b[K     |█████████████▏                  | 624kB 6.7MB/s eta 0:00:01\r\u001b[K     |█████████████▍                  | 634kB 6.7MB/s eta 0:00:01\r\u001b[K     |█████████████▋                  | 645kB 6.7MB/s eta 0:00:01\r\u001b[K     |█████████████▉                  | 655kB 6.7MB/s eta 0:00:01\r\u001b[K     |██████████████                  | 665kB 6.7MB/s eta 0:00:01\r\u001b[K     |██████████████▎                 | 675kB 6.7MB/s eta 0:00:01\r\u001b[K     |██████████████▌                 | 686kB 6.7MB/s eta 0:00:01\r\u001b[K     |██████████████▊                 | 696kB 6.7MB/s eta 0:00:01\r\u001b[K     |███████████████                 | 706kB 6.7MB/s eta 0:00:01\r\u001b[K     |███████████████▏                | 716kB 6.7MB/s eta 0:00:01\r\u001b[K     |███████████████▍                | 727kB 6.7MB/s eta 0:00:01\r\u001b[K     |███████████████▋                | 737kB 6.7MB/s eta 0:00:01\r\u001b[K     |███████████████▉                | 747kB 6.7MB/s eta 0:00:01\r\u001b[K     |████████████████                | 757kB 6.7MB/s eta 0:00:01\r\u001b[K     |████████████████▎               | 768kB 6.7MB/s eta 0:00:01\r\u001b[K     |████████████████▌               | 778kB 6.7MB/s eta 0:00:01\r\u001b[K     |████████████████▊               | 788kB 6.7MB/s eta 0:00:01\r\u001b[K     |█████████████████               | 798kB 6.7MB/s eta 0:00:01\r\u001b[K     |█████████████████               | 808kB 6.7MB/s eta 0:00:01\r\u001b[K     |█████████████████▎              | 819kB 6.7MB/s eta 0:00:01\r\u001b[K     |█████████████████▌              | 829kB 6.7MB/s eta 0:00:01\r\u001b[K     |█████████████████▊              | 839kB 6.7MB/s eta 0:00:01\r\u001b[K     |██████████████████              | 849kB 6.7MB/s eta 0:00:01\r\u001b[K     |██████████████████▏             | 860kB 6.7MB/s eta 0:00:01\r\u001b[K     |██████████████████▍             | 870kB 6.7MB/s eta 0:00:01\r\u001b[K     |██████████████████▋             | 880kB 6.7MB/s eta 0:00:01\r\u001b[K     |██████████████████▉             | 890kB 6.7MB/s eta 0:00:01\r\u001b[K     |███████████████████             | 901kB 6.7MB/s eta 0:00:01\r\u001b[K     |███████████████████▎            | 911kB 6.7MB/s eta 0:00:01\r\u001b[K     |███████████████████▌            | 921kB 6.7MB/s eta 0:00:01\r\u001b[K     |███████████████████▊            | 931kB 6.7MB/s eta 0:00:01\r\u001b[K     |████████████████████            | 942kB 6.7MB/s eta 0:00:01\r\u001b[K     |████████████████████▏           | 952kB 6.7MB/s eta 0:00:01\r\u001b[K     |████████████████████▍           | 962kB 6.7MB/s eta 0:00:01\r\u001b[K     |████████████████████▋           | 972kB 6.7MB/s eta 0:00:01\r\u001b[K     |████████████████████▉           | 983kB 6.7MB/s eta 0:00:01\r\u001b[K     |█████████████████████           | 993kB 6.7MB/s eta 0:00:01\r\u001b[K     |█████████████████████▎          | 1.0MB 6.7MB/s eta 0:00:01\r\u001b[K     |█████████████████████▍          | 1.0MB 6.7MB/s eta 0:00:01\r\u001b[K     |█████████████████████▋          | 1.0MB 6.7MB/s eta 0:00:01\r\u001b[K     |█████████████████████▉          | 1.0MB 6.7MB/s eta 0:00:01\r\u001b[K     |██████████████████████          | 1.0MB 6.7MB/s eta 0:00:01\r\u001b[K     |██████████████████████▎         | 1.1MB 6.7MB/s eta 0:00:01\r\u001b[K     |██████████████████████▌         | 1.1MB 6.7MB/s eta 0:00:01\r\u001b[K     |██████████████████████▊         | 1.1MB 6.7MB/s eta 0:00:01\r\u001b[K     |███████████████████████         | 1.1MB 6.7MB/s eta 0:00:01\r\u001b[K     |███████████████████████▏        | 1.1MB 6.7MB/s eta 0:00:01\r\u001b[K     |███████████████████████▍        | 1.1MB 6.7MB/s eta 0:00:01\r\u001b[K     |███████████████████████▋        | 1.1MB 6.7MB/s eta 0:00:01\r\u001b[K     |███████████████████████▉        | 1.1MB 6.7MB/s eta 0:00:01\r\u001b[K     |████████████████████████        | 1.1MB 6.7MB/s eta 0:00:01\r\u001b[K     |████████████████████████▎       | 1.1MB 6.7MB/s eta 0:00:01\r\u001b[K     |████████████████████████▌       | 1.2MB 6.7MB/s eta 0:00:01\r\u001b[K     |████████████████████████▊       | 1.2MB 6.7MB/s eta 0:00:01\r\u001b[K     |█████████████████████████       | 1.2MB 6.7MB/s eta 0:00:01\r\u001b[K     |█████████████████████████▏      | 1.2MB 6.7MB/s eta 0:00:01\r\u001b[K     |█████████████████████████▍      | 1.2MB 6.7MB/s eta 0:00:01\r\u001b[K     |█████████████████████████▋      | 1.2MB 6.7MB/s eta 0:00:01\r\u001b[K     |█████████████████████████▊      | 1.2MB 6.7MB/s eta 0:00:01\r\u001b[K     |██████████████████████████      | 1.2MB 6.7MB/s eta 0:00:01\r\u001b[K     |██████████████████████████▏     | 1.2MB 6.7MB/s eta 0:00:01\r\u001b[K     |██████████████████████████▍     | 1.2MB 6.7MB/s eta 0:00:01\r\u001b[K     |██████████████████████████▋     | 1.3MB 6.7MB/s eta 0:00:01\r\u001b[K     |██████████████████████████▉     | 1.3MB 6.7MB/s eta 0:00:01\r\u001b[K     |███████████████████████████     | 1.3MB 6.7MB/s eta 0:00:01\r\u001b[K     |███████████████████████████▎    | 1.3MB 6.7MB/s eta 0:00:01\r\u001b[K     |███████████████████████████▌    | 1.3MB 6.7MB/s eta 0:00:01\r\u001b[K     |███████████████████████████▊    | 1.3MB 6.7MB/s eta 0:00:01\r\u001b[K     |████████████████████████████    | 1.3MB 6.7MB/s eta 0:00:01\r\u001b[K     |████████████████████████████▏   | 1.3MB 6.7MB/s eta 0:00:01\r\u001b[K     |████████████████████████████▍   | 1.3MB 6.7MB/s eta 0:00:01\r\u001b[K     |████████████████████████████▋   | 1.4MB 6.7MB/s eta 0:00:01\r\u001b[K     |████████████████████████████▉   | 1.4MB 6.7MB/s eta 0:00:01\r\u001b[K     |█████████████████████████████   | 1.4MB 6.7MB/s eta 0:00:01\r\u001b[K     |█████████████████████████████▎  | 1.4MB 6.7MB/s eta 0:00:01\r\u001b[K     |█████████████████████████████▌  | 1.4MB 6.7MB/s eta 0:00:01\r\u001b[K     |█████████████████████████████▊  | 1.4MB 6.7MB/s eta 0:00:01\r\u001b[K     |█████████████████████████████▉  | 1.4MB 6.7MB/s eta 0:00:01\r\u001b[K     |██████████████████████████████  | 1.4MB 6.7MB/s eta 0:00:01\r\u001b[K     |██████████████████████████████▎ | 1.4MB 6.7MB/s eta 0:00:01\r\u001b[K     |██████████████████████████████▌ | 1.4MB 6.7MB/s eta 0:00:01\r\u001b[K     |██████████████████████████████▊ | 1.5MB 6.7MB/s eta 0:00:01\r\u001b[K     |███████████████████████████████ | 1.5MB 6.7MB/s eta 0:00:01\r\u001b[K     |███████████████████████████████▏| 1.5MB 6.7MB/s eta 0:00:01\r\u001b[K     |███████████████████████████████▍| 1.5MB 6.7MB/s eta 0:00:01\r\u001b[K     |███████████████████████████████▋| 1.5MB 6.7MB/s eta 0:00:01\r\u001b[K     |███████████████████████████████▉| 1.5MB 6.7MB/s eta 0:00:01\r\u001b[K     |████████████████████████████████| 1.5MB 6.7MB/s \n",
            "\u001b[?25hRequirement already satisfied: requests in /usr/local/lib/python3.6/dist-packages (from transformers) (2.23.0)\n",
            "Requirement already satisfied: packaging in /usr/local/lib/python3.6/dist-packages (from transformers) (20.8)\n",
            "Requirement already satisfied: tqdm>=4.27 in /usr/local/lib/python3.6/dist-packages (from transformers) (4.41.1)\n",
            "Requirement already satisfied: numpy in /usr/local/lib/python3.6/dist-packages (from transformers) (1.19.4)\n",
            "Requirement already satisfied: dataclasses; python_version < \"3.7\" in /usr/local/lib/python3.6/dist-packages (from transformers) (0.8)\n",
            "Collecting tokenizers==0.9.4\n",
            "\u001b[?25l  Downloading https://files.pythonhosted.org/packages/0f/1c/e789a8b12e28be5bc1ce2156cf87cb522b379be9cadc7ad8091a4cc107c4/tokenizers-0.9.4-cp36-cp36m-manylinux2010_x86_64.whl (2.9MB)\n",
            "\u001b[K     |████████████████████████████████| 2.9MB 30.8MB/s \n",
            "\u001b[?25hRequirement already satisfied: filelock in /usr/local/lib/python3.6/dist-packages (from transformers) (3.0.12)\n",
            "Requirement already satisfied: regex!=2019.12.17 in /usr/local/lib/python3.6/dist-packages (from transformers) (2019.12.20)\n",
            "Collecting sacremoses\n",
            "\u001b[?25l  Downloading https://files.pythonhosted.org/packages/7d/34/09d19aff26edcc8eb2a01bed8e98f13a1537005d31e95233fd48216eed10/sacremoses-0.0.43.tar.gz (883kB)\n",
            "\u001b[K     |████████████████████████████████| 890kB 50.9MB/s \n",
            "\u001b[?25hRequirement already satisfied: idna<3,>=2.5 in /usr/local/lib/python3.6/dist-packages (from requests->transformers) (2.10)\n",
            "Requirement already satisfied: urllib3!=1.25.0,!=1.25.1,<1.26,>=1.21.1 in /usr/local/lib/python3.6/dist-packages (from requests->transformers) (1.24.3)\n",
            "Requirement already satisfied: certifi>=2017.4.17 in /usr/local/lib/python3.6/dist-packages (from requests->transformers) (2020.12.5)\n",
            "Requirement already satisfied: chardet<4,>=3.0.2 in /usr/local/lib/python3.6/dist-packages (from requests->transformers) (3.0.4)\n",
            "Requirement already satisfied: pyparsing>=2.0.2 in /usr/local/lib/python3.6/dist-packages (from packaging->transformers) (2.4.7)\n",
            "Requirement already satisfied: six in /usr/local/lib/python3.6/dist-packages (from sacremoses->transformers) (1.15.0)\n",
            "Requirement already satisfied: click in /usr/local/lib/python3.6/dist-packages (from sacremoses->transformers) (7.1.2)\n",
            "Requirement already satisfied: joblib in /usr/local/lib/python3.6/dist-packages (from sacremoses->transformers) (1.0.0)\n",
            "Building wheels for collected packages: sacremoses\n",
            "  Building wheel for sacremoses (setup.py) ... \u001b[?25l\u001b[?25hdone\n",
            "  Created wheel for sacremoses: filename=sacremoses-0.0.43-cp36-none-any.whl size=893261 sha256=35b231747f10115b40374437e48c0e1aac9621c58c7f2a275468812d7482ec18\n",
            "  Stored in directory: /root/.cache/pip/wheels/29/3c/fd/7ce5c3f0666dab31a50123635e6fb5e19ceb42ce38d4e58f45\n",
            "Successfully built sacremoses\n",
            "Installing collected packages: tokenizers, sacremoses, transformers\n",
            "Successfully installed sacremoses-0.0.43 tokenizers-0.9.4 transformers-4.1.1\n"
          ],
          "name": "stdout"
        }
      ]
    },
    {
      "cell_type": "markdown",
      "metadata": {
        "id": "PLpiKAomowh9"
      },
      "source": [
        "### *-Chargement du tokenizer de BERT*"
      ]
    },
    {
      "cell_type": "code",
      "metadata": {
        "colab": {
          "base_uri": "https://localhost:8080/",
          "height": 65,
          "referenced_widgets": [
            "76f3fd3fd9b34e789e7a129827b85c61",
            "274aa4bf8be84f80baa77fd64368804b",
            "60ecce5f43504a6cb72f61dc1f05360b",
            "8a8ea54457fa448ba67bfaa0acd67a52",
            "169c0025ae4342278d23b3797e9e9c00",
            "1f25c525192741e99499da9eb92fb09b",
            "01d5df5ce77c4ed19d31e4b489413307",
            "7bd2c2ff46fb49b182f0d51b302adfb6"
          ]
        },
        "id": "fHuVQXoiAnOh",
        "outputId": "fe9697d0-1375-4366-cba5-d247a09b6109"
      },
      "source": [
        "from transformers import BertTokenizer\n",
        "import torch\n",
        "# Chargement du tokenizer de Bert\n",
        "tokenizer = BertTokenizer.from_pretrained('bert-base-uncased', do_lower_case=True)"
      ],
      "execution_count": 19,
      "outputs": [
        {
          "output_type": "display_data",
          "data": {
            "application/vnd.jupyter.widget-view+json": {
              "model_id": "76f3fd3fd9b34e789e7a129827b85c61",
              "version_minor": 0,
              "version_major": 2
            },
            "text/plain": [
              "HBox(children=(FloatProgress(value=0.0, description='Downloading', max=231508.0, style=ProgressStyle(descripti…"
            ]
          },
          "metadata": {
            "tags": []
          }
        },
        {
          "output_type": "stream",
          "text": [
            "\n"
          ],
          "name": "stdout"
        }
      ]
    },
    {
      "cell_type": "markdown",
      "metadata": {
        "id": "VZ6f_0FLpGfG"
      },
      "source": [
        "### *-Recherche de la chaine la plus longue dans nos tweet*"
      ]
    },
    {
      "cell_type": "code",
      "metadata": {
        "colab": {
          "base_uri": "https://localhost:8080/"
        },
        "id": "b-mtKeHEAuG-",
        "outputId": "ddaea131-c772-4be7-f643-528fb366e719"
      },
      "source": [
        "#extraction de nos tweets\n",
        "all_tweets = dataset.Tweets.values\n",
        "# Encodage de notre dataset en une liste liste pour rechercher le la chaine la plus longue de notre dataset\n",
        "encoded_tweets = [tokenizer.encode(sent, add_special_tokens=True) for sent in all_tweets]\n",
        "\n",
        "# recherche du tweet le plus long\n",
        "MAX_LEN = max([len(sent) for sent in encoded_tweets])\n",
        "print('Max length: ', MAX_LEN)"
      ],
      "execution_count": 20,
      "outputs": [
        {
          "output_type": "stream",
          "text": [
            "Max length:  61\n"
          ],
          "name": "stdout"
        }
      ]
    },
    {
      "cell_type": "markdown",
      "metadata": {
        "id": "KLUJIBc3pcs5"
      },
      "source": [
        "### *--Définir fonction de pré processing pour BERT en utilisant son tokenizer définie plus haut--*"
      ]
    },
    {
      "cell_type": "code",
      "metadata": {
        "id": "v3UHcUeMAu_O"
      },
      "source": [
        "# Fonction de tokenization de notre corpus\n",
        "def preprocessing_for_bert(data_after_clean):\n",
        "    \n",
        "    start_time = datetime.now()\n",
        "    \n",
        "    # creation de liste vide pour sauvegarder les sorties ( mask et token)\n",
        "    input_ids = []\n",
        "    attention_masks = []\n",
        "\n",
        "    # pour chaque phrase,\n",
        "    for sent in data_after_clean:\n",
        "        # `encode_plus` permet de:\n",
        "        #    (1) Tokenizer les phrases\n",
        "        #    (2) Ajoute les tokens `[CLS]` et `[SEP]` pour marquer le debut et la fin d'une phrase\n",
        "        #    (3) Map les tokens avec leurs IDs respectifs\n",
        "        #    (4) Crée le mask d'attention\n",
        "        #    (5) Retourne un dictionnaire en sortie\n",
        "        encoded_sent = tokenizer.encode_plus(\n",
        "            sent,                           #chargement des phrases du corpus\n",
        "            add_special_tokens=True,        #ajout des tokens de debut `[CLS]` et fin de ligne `[SEP]`\n",
        "            max_length=MAX_LEN,             #Max lenght\n",
        "            pad_to_max_length=True,         \n",
        "            return_attention_mask=True      #attention mask\n",
        "            )\n",
        "        \n",
        "        # ajout des sorties apres tokenization dans les listes créer plus haut\n",
        "        input_ids.append(encoded_sent.get('input_ids'))\n",
        "        attention_masks.append(encoded_sent.get('attention_mask'))\n",
        "\n",
        "    # Converssion des listes en tensors\n",
        "    input_ids = torch.tensor(input_ids)\n",
        "    attention_masks = torch.tensor(attention_masks)\n",
        "\n",
        "    end_time = datetime.now()\n",
        "    print(\">>>>> La Tokenization à pris :\",(end_time-start_time),\" secondes.\")\n",
        "    \n",
        "    return input_ids, attention_masks"
      ],
      "execution_count": 21,
      "outputs": []
    },
    {
      "cell_type": "markdown",
      "metadata": {
        "id": "yeICXGFHA1SA"
      },
      "source": [
        "### -------------Tokenization."
      ]
    },
    {
      "cell_type": "code",
      "metadata": {
        "colab": {
          "base_uri": "https://localhost:8080/"
        },
        "id": "HhYkVo4PAzAm",
        "outputId": "04781c05-be4f-45c2-ca2f-056732f0bc6c"
      },
      "source": [
        "#lancememnt de la fonction `preprocessing_for_bert` sur le jeu d'entrainement et de validation pour le discriminant dataset\n",
        "print('Tokenizing data...')\n",
        "train_discr_inputs, train_discr_masks = preprocessing_for_bert(X_discri_train)\n",
        "val_discr_inputs, val_discr_masks = preprocessing_for_bert(X_discri_val)"
      ],
      "execution_count": 22,
      "outputs": [
        {
          "output_type": "stream",
          "text": [
            "Truncation was not explicitly activated but `max_length` is provided a specific value, please use `truncation=True` to explicitly truncate examples to max length. Defaulting to 'longest_first' truncation strategy. If you encode pairs of sequences (GLUE-style) with the tokenizer you can select this strategy more precisely by providing a specific strategy to `truncation`.\n"
          ],
          "name": "stderr"
        },
        {
          "output_type": "stream",
          "text": [
            "Tokenizing data...\n"
          ],
          "name": "stdout"
        },
        {
          "output_type": "stream",
          "text": [
            "/usr/local/lib/python3.6/dist-packages/transformers/tokenization_utils_base.py:2179: FutureWarning: The `pad_to_max_length` argument is deprecated and will be removed in a future version, use `padding=True` or `padding='longest'` to pad to the longest sequence in the batch, or use `padding='max_length'` to pad to a max length. In this case, you can give a specific length with `max_length` (e.g. `max_length=45`) or leave max_length to None to pad to the maximal input size of the model (e.g. 512 for Bert).\n",
            "  FutureWarning,\n"
          ],
          "name": "stderr"
        },
        {
          "output_type": "stream",
          "text": [
            ">>>>> La Tokenization à pris : 0:00:08.416711  secondes.\n",
            ">>>>> La Tokenization à pris : 0:00:00.947001  secondes.\n"
          ],
          "name": "stdout"
        }
      ]
    },
    {
      "cell_type": "markdown",
      "metadata": {
        "id": "v7NgR7J8BAWN"
      },
      "source": [
        "### **2.2. Creation de notre DataLoader**"
      ]
    },
    {
      "cell_type": "markdown",
      "metadata": {
        "id": "emQgVCfVBCxE"
      },
      "source": [
        "Nous allons créer ici un itérateur pour notre ensemble de données à l'aide de la classe Torch DataLoader. Cela aidera à économiser de la mémoire pendant l'entraînement et à augmenter la vitesse d'entraînement."
      ]
    },
    {
      "cell_type": "code",
      "metadata": {
        "id": "ELueY8svBA-O"
      },
      "source": [
        "from torch.utils.data import TensorDataset, DataLoader, RandomSampler, SequentialSampler\n",
        "from transformers import AdamW, get_linear_schedule_with_warmup\n",
        "from transformers import BertForSequenceClassification\n",
        "\n",
        "# Pour affiner BERT, les auteurs recommandent une taille de batch de 16 ou 32, nous prendrons 32.\n",
        "batch_size = 32"
      ],
      "execution_count": 23,
      "outputs": []
    },
    {
      "cell_type": "code",
      "metadata": {
        "id": "1ZTSl99aBFuH"
      },
      "source": [
        "# convertion de nos label en tensors pour la manipulation par le GPU\n",
        "train_discri_labels = torch.tensor(y_discri_train.values)\n",
        "val_discri_labels = torch.tensor(y_discri_val.values)\n",
        "\n",
        "# Creation de notre dataloader pour le training set pour le discrimination dataset\n",
        "train_discri_data = TensorDataset(train_discr_inputs, train_discr_masks, train_discri_labels)\n",
        "train_d_sampler = RandomSampler(train_discri_data)\n",
        "train_discri_dataloader = DataLoader(train_discri_data, sampler=train_d_sampler, batch_size=batch_size)\n",
        "\n",
        "# Creation de notre dataloader pour le validation set pour le discrimination dataset\n",
        "val_discri_data = TensorDataset(val_discr_inputs, val_discr_masks, val_discri_labels)\n",
        "val_d_sampler = SequentialSampler(val_discri_data)\n",
        "val_discri_dataloader = DataLoader(val_discri_data, sampler=val_d_sampler, batch_size=batch_size)"
      ],
      "execution_count": 24,
      "outputs": []
    },
    {
      "cell_type": "markdown",
      "metadata": {
        "id": "WcKj6JQ7BOxA"
      },
      "source": [
        "## **3. Entrainement de notre Model**"
      ]
    },
    {
      "cell_type": "markdown",
      "metadata": {
        "id": "WBW6vzlxBWIg"
      },
      "source": [
        "#### *3.1. Create BertClassifier*"
      ]
    },
    {
      "cell_type": "code",
      "metadata": {
        "colab": {
          "base_uri": "https://localhost:8080/"
        },
        "id": "x6b9ec0rBQ36",
        "outputId": "9e14c629-18d9-40c5-d89e-bd5413f5b793"
      },
      "source": [
        "%%time\n",
        "import torch\n",
        "import torch.nn as nn\n",
        "from transformers import BertModel\n",
        "\n",
        "# BertClassfier class\n",
        "class BertClassifier(nn.Module):\n",
        "    \"\"\"Bert Model pour la classififcation implémenter avec tous les paramètres de zéro.\n",
        "    \"\"\"\n",
        "    def __init__(self, freeze_bert=False):\n",
        "        \"\"\"\n",
        "        @param    bert: le model objet de BertModel\n",
        "        @param    classifier: le module reseau de neurone de pytoch torch.nn.Module\n",
        "        @param    freeze_bert (bool): Set `False` pour activer ou désactiver le fine-tune du model de  BERT\n",
        "        \"\"\"\n",
        "        super(BertClassifier, self).__init__()\n",
        "        # Specifions les différentes couches et nombre d'entrée de neuronnes: hidden size pour BERT, hidden size pour notre classifier, et nombre de labels (sortie : 2 pour 0 ou 1)\n",
        "        D_in, H, D_out = 768, 200, 2\n",
        "\n",
        "        # Initialisation du model de BERT\n",
        "        self.bert = BertModel.from_pretrained('bert-base-uncased')\n",
        "\n",
        "        # instanciation du modèle et mise en place du one-layer feedforward\n",
        "        self.classifier = nn.Sequential(\n",
        "            nn.Linear(D_in, H),\n",
        "            nn.ReLU(),\n",
        "            #nn.Dropout(0.5),\n",
        "            nn.Linear(H, D_out)\n",
        "        )\n",
        "\n",
        "        # ici, on Freeze le BERT model\n",
        "        if freeze_bert:\n",
        "            for param in self.bert.parameters():\n",
        "                param.requires_grad = False\n",
        "        \n",
        "    def forward(self, input_ids, attention_mask):\n",
        "\n",
        "        # Feed l'entrée a BERT\n",
        "        outputs = self.bert(input_ids=input_ids,\n",
        "                            attention_mask=attention_mask)\n",
        "        \n",
        "        # Extraction de la dernier etat de la derniere couche du token du debut de ligne `[CLS]` pour la classififcation de la tache\n",
        "        last_hidden_state_cls = outputs[0][:, 0, :]\n",
        "\n",
        "        # Feed l'entrée du classifier pour calculer les logits\n",
        "        logits = self.classifier(last_hidden_state_cls)\n",
        "\n",
        "        return logits"
      ],
      "execution_count": 28,
      "outputs": [
        {
          "output_type": "stream",
          "text": [
            "CPU times: user 44 µs, sys: 0 ns, total: 44 µs\n",
            "Wall time: 47.2 µs\n"
          ],
          "name": "stdout"
        }
      ]
    },
    {
      "cell_type": "markdown",
      "metadata": {
        "id": "khkRrG4HBaaM"
      },
      "source": [
        "#### *3.2. Optimizer & Learning Rate Scheduler*"
      ]
    },
    {
      "cell_type": "markdown",
      "metadata": {
        "id": "QOr-lVARBcYD"
      },
      "source": [
        "Pour affiner notre modèle de classification de Bert conçu, nous devons créer un optimiseur. Les auteurs recommandes d'utiliser les hyper-parameters ci-dessous:\n",
        "\n",
        "- Batch size: 16 ou 32\n",
        "- Learning rate (Adam): 5e-5, 3e-5 or 2e-5\n",
        "- Nombre d'epochs: 2, 3, 4"
      ]
    },
    {
      "cell_type": "code",
      "metadata": {
        "id": "DC1lhp2CBfkt"
      },
      "source": [
        "def initialize_model(epochs=4):\n",
        "    \"\"\"Initialisation de notre Bert Classifier, optimizer et du learning rate scheduler.\n",
        "    \"\"\"\n",
        "    # Instantiation de Bert Classifier\n",
        "    bert_classifier = BertClassifier(freeze_bert=False)\n",
        "\n",
        "    # Choix du GPU ou CPU\n",
        "    device = torch.device('cuda' if torch.cuda.is_available() else 'cpu')\n",
        "    \n",
        "    bert_classifier.to(device)\n",
        "\n",
        "    # Creation de l'optimizer\n",
        "    optimizer = AdamW(bert_classifier.parameters(),\n",
        "                      lr=5e-5,    # Default learning rate\n",
        "                      eps=1e-8    # Default epsilon value\n",
        "                      )\n",
        "\n",
        "    # Nombre totale d'etape d'entrainement(elle depend fortement de la taille de notre dataloader d'entrainement)\n",
        "    total_steps = len(train_discri_dataloader) * epochs\n",
        "\n",
        "    # Configuration de notre leaning rate(taux d'apprentissage)\n",
        "    scheduler = get_linear_schedule_with_warmup(optimizer,\n",
        "                                                num_warmup_steps=0, # Default value\n",
        "                                                num_training_steps=total_steps)\n",
        "    return bert_classifier, optimizer, scheduler"
      ],
      "execution_count": 29,
      "outputs": []
    },
    {
      "cell_type": "markdown",
      "metadata": {
        "id": "OrphamqHBkWO"
      },
      "source": [
        "#### *3.3. Boucle d'entrainement*"
      ]
    },
    {
      "cell_type": "markdown",
      "metadata": {
        "id": "nA27MZ2DBlOx"
      },
      "source": [
        "We will train our Bert Classifier for 4 epochs. In each epoch, we will train our model and evaluate its performance on the validation set. In more details, we will:\n",
        "\n",
        "Training:\n",
        "- Unpack our data from the dataloader and load the data onto the GPU\n",
        "- Zero out gradients calculated in the previous pass\n",
        "- Perform a forward pass to compute logits and loss\n",
        "- Perform a backward pass to compute gradients (loss.backward())\n",
        "- Clip the norm of the gradients to 1.0 to prevent \"exploding gradients\"\n",
        "- Update the model's parameters (optimizer.step())\n",
        "- Update the learning rate (scheduler.step())\n",
        "\n",
        "Evaluation:\n",
        "\n",
        "- Unpack our data and load onto the GPU\n",
        "- Forward pass\n",
        "- Compute loss and accuracy rate over the validation set\n",
        "\n",
        "The script below is commented with the details of our training and evaluation loop."
      ]
    },
    {
      "cell_type": "code",
      "metadata": {
        "id": "4jNQ6gNJBoTL"
      },
      "source": [
        "import random\n",
        "import time\n",
        "\n",
        "# Specify loss function\n",
        "loss_fn = nn.CrossEntropyLoss()\n",
        "\n",
        "def set_seed(seed_value=42):\n",
        "    \"\"\"Set seed for reproducibility.\n",
        "    \"\"\"\n",
        "    random.seed(seed_value)\n",
        "    np.random.seed(seed_value)\n",
        "    torch.manual_seed(seed_value)\n",
        "    torch.cuda.manual_seed_all(seed_value)\n",
        "\n",
        "def train(model, train_dataloader, val_dataloader=None, epochs=4, evaluation=False):\n",
        "    \"\"\"Train the BertClassifier model.\n",
        "    \"\"\"\n",
        "    start_time = datetime.now()\n",
        "    # Start training loop\n",
        "    print(\"Start training...\\n\")\n",
        "    for epoch_i in range(epochs):\n",
        "        # =======================================\n",
        "        #               Training\n",
        "        # =======================================\n",
        "        # Print the header of the result table\n",
        "        print(f\"{'Epoch':^7} | {'Batch':^7} | {'Train Loss':^12} | {'Val Loss':^10} | {'Val Acc':^9} | {'Elapsed':^9}\")\n",
        "        print(\"-\"*70)\n",
        "\n",
        "        # Measure the elapsed time of each epoch\n",
        "        t0_epoch, t0_batch = time.time(), time.time()\n",
        "\n",
        "        # Reset tracking variables at the beginning of each epoch\n",
        "        total_loss, batch_loss, batch_counts = 0, 0, 0\n",
        "\n",
        "        # Put the model into the training mode\n",
        "        model.train()\n",
        "\n",
        "        # For each batch of training data...\n",
        "        for step, batch in enumerate(train_dataloader):\n",
        "            batch_counts +=1\n",
        "            \n",
        "            # Tell PyTorch to run the model on GPU or cpu\n",
        "            device = torch.device('cuda' if torch.cuda.is_available() else 'cpu')\n",
        "            # Load batch to GPU or CPU\n",
        "            b_input_ids, b_attn_mask, b_labels = tuple(t.to(device) for t in batch)\n",
        "\n",
        "            # Zero out any previously calculated gradients\n",
        "            model.zero_grad()\n",
        "\n",
        "            # Perform a forward pass. This will return logits.\n",
        "            logits = model(b_input_ids, b_attn_mask)\n",
        "\n",
        "            # Compute loss and accumulate the loss values\n",
        "            loss = loss_fn(logits, b_labels)\n",
        "            batch_loss += loss.item()\n",
        "            total_loss += loss.item()\n",
        "\n",
        "            # Perform a backward pass to calculate gradients\n",
        "            loss.backward()\n",
        "\n",
        "            # Clip the norm of the gradients to 1.0 to prevent \"exploding gradients\"\n",
        "            torch.nn.utils.clip_grad_norm_(model.parameters(), 1.0)\n",
        "\n",
        "            # Update parameters and the learning rate\n",
        "            optimizer.step()\n",
        "            scheduler.step()\n",
        "\n",
        "            # Print the loss values and time elapsed for every 20 batches\n",
        "            if (step % 20 == 0 and step != 0) or (step == len(train_dataloader) - 1):\n",
        "                # Calculate time elapsed for 20 batches\n",
        "                time_elapsed = time.time() - t0_batch\n",
        "\n",
        "                # Print training results\n",
        "                print(f\"{epoch_i + 1:^7} | {step:^7} | {batch_loss / batch_counts:^12.6f} | {'-':^10} | {'-':^9} | {time_elapsed:^9.2f}\")\n",
        "\n",
        "                # Reset batch tracking variables\n",
        "                batch_loss, batch_counts = 0, 0\n",
        "                t0_batch = time.time()\n",
        "\n",
        "        # Calculate the average loss over the entire training data\n",
        "        avg_train_loss = total_loss / len(train_dataloader)\n",
        "\n",
        "        print(\"-\"*70)\n",
        "        # =======================================\n",
        "        #               Evaluation\n",
        "        # =======================================\n",
        "        if evaluation == True:\n",
        "            # After the completion of each training epoch, measure the model's performance\n",
        "            # on our validation set.\n",
        "            val_loss, val_accuracy = evaluate(model, val_dataloader)\n",
        "\n",
        "            # Print performance over the entire training data\n",
        "            time_elapsed = time.time() - t0_epoch\n",
        "            \n",
        "            print(f\"{epoch_i + 1:^7} | {'-':^7} | {avg_train_loss:^12.6f} | {val_loss:^10.6f} | {val_accuracy:^9.2f} | {time_elapsed:^9.2f}\")\n",
        "            print(\"-\"*70)\n",
        "        print(\"\\n\")\n",
        "    \n",
        "    end_time = datetime.now()\n",
        "    print(\">>>>>Training complete! in \",(end_time-start_time),\" secondes.\")\n",
        "\n",
        "def evaluate(model, val_dataloader):\n",
        "    \"\"\"After the completion of each training epoch, measure the model's performance\n",
        "    on our validation set.\n",
        "    \"\"\"\n",
        "    # Put the model into the evaluation mode. The dropout layers are disabled during\n",
        "    # the test time.\n",
        "    model.eval()\n",
        "\n",
        "    # Tracking variables\n",
        "    val_accuracy = []\n",
        "    val_loss = []\n",
        "\n",
        "    # For each batch in our validation set...\n",
        "    for batch in val_dataloader:\n",
        "        # Tell PyTorch to run the model on GPU or cpu\n",
        "        device = torch.device('cuda' if torch.cuda.is_available() else 'cpu')\n",
        "        # Load batch to GPU or CPU\n",
        "        b_input_ids, b_attn_mask, b_labels = tuple(t.to(device) for t in batch)\n",
        "\n",
        "        # Compute logits\n",
        "        with torch.no_grad():\n",
        "            logits = model(b_input_ids, b_attn_mask)\n",
        "\n",
        "        # Compute loss\n",
        "        loss = loss_fn(logits, b_labels)\n",
        "        val_loss.append(loss.item())\n",
        "\n",
        "        # Get the predictions\n",
        "        preds = torch.argmax(logits, dim=1).flatten()\n",
        "\n",
        "        # Calculate the accuracy rate\n",
        "        accuracy = (preds == b_labels).cpu().numpy().mean() * 100\n",
        "        val_accuracy.append(accuracy)\n",
        "\n",
        "    # Compute the average accuracy and loss over the validation set.\n",
        "    val_loss = np.mean(val_loss)\n",
        "    val_accuracy = np.mean(val_accuracy)\n",
        "\n",
        "    return val_loss, val_accuracy"
      ],
      "execution_count": 30,
      "outputs": []
    },
    {
      "cell_type": "markdown",
      "metadata": {
        "id": "liu454_UB3_C"
      },
      "source": [
        "#### **----, Début de notre entrainement du BertClassifier!**"
      ]
    },
    {
      "cell_type": "code",
      "metadata": {
        "colab": {
          "base_uri": "https://localhost:8080/",
          "height": 1000,
          "referenced_widgets": [
            "e3cabad8334c4af991b16e2d01637570",
            "92762ca52d40475c9c80861f30bd247f",
            "36ee34e115324bd394cbdb4baf12afa5",
            "4e6f69d62f534a2bbdc82654e256bf40",
            "5e432cc7449148e88fcff0f4a418f3e8",
            "f43b079d198047058511e737976da239",
            "c15b6523235b457db9bd66e1672af3a6",
            "90754130a8444570b85266e4690f4277",
            "004bfd9fb73c48e6ac00cdf5bc57b88c",
            "42cf748537ee4d3db65b88f0581d580d",
            "96a0767e43ae41888ec8d9206c1e9537",
            "65ccd1c25f1d4a65a13f0cd6652713e5",
            "8c30d95bbd3e43edbadf9eec16669ef2",
            "60e45f3008874a8faba45995f8376f91",
            "a4fc28d7e0d74d3b9aca68071d119acd",
            "f1939b4a382b43c79d4bd00704e4b77f"
          ]
        },
        "id": "h26e7f74B52N",
        "outputId": "d3cd606f-dc93-43d5-9844-bd01f62a2824"
      },
      "source": [
        "set_seed(42)    # configuration de notre modèle de reproduction\n",
        "bert_classifier, optimizer, scheduler = initialize_model(epochs=4)\n",
        "train(bert_classifier, train_discri_dataloader, val_discri_dataloader, epochs=4, evaluation=True)"
      ],
      "execution_count": 31,
      "outputs": [
        {
          "output_type": "display_data",
          "data": {
            "application/vnd.jupyter.widget-view+json": {
              "model_id": "e3cabad8334c4af991b16e2d01637570",
              "version_minor": 0,
              "version_major": 2
            },
            "text/plain": [
              "HBox(children=(FloatProgress(value=0.0, description='Downloading', max=433.0, style=ProgressStyle(description_…"
            ]
          },
          "metadata": {
            "tags": []
          }
        },
        {
          "output_type": "stream",
          "text": [
            "\n"
          ],
          "name": "stdout"
        },
        {
          "output_type": "display_data",
          "data": {
            "application/vnd.jupyter.widget-view+json": {
              "model_id": "004bfd9fb73c48e6ac00cdf5bc57b88c",
              "version_minor": 0,
              "version_major": 2
            },
            "text/plain": [
              "HBox(children=(FloatProgress(value=0.0, description='Downloading', max=440473133.0, style=ProgressStyle(descri…"
            ]
          },
          "metadata": {
            "tags": []
          }
        },
        {
          "output_type": "stream",
          "text": [
            "\n",
            "Start training...\n",
            "\n",
            " Epoch  |  Batch  |  Train Loss  |  Val Loss  |  Val Acc  |  Elapsed \n",
            "----------------------------------------------------------------------\n",
            "   1    |   20    |   0.549333   |     -      |     -     |   8.86   \n",
            "   1    |   40    |   0.447538   |     -      |     -     |   8.24   \n",
            "   1    |   60    |   0.403378   |     -      |     -     |   8.23   \n",
            "   1    |   80    |   0.371309   |     -      |     -     |   8.25   \n",
            "   1    |   100   |   0.367845   |     -      |     -     |   8.25   \n",
            "   1    |   120   |   0.407649   |     -      |     -     |   8.32   \n",
            "   1    |   140   |   0.330451   |     -      |     -     |   8.34   \n",
            "   1    |   160   |   0.334221   |     -      |     -     |   8.35   \n",
            "   1    |   180   |   0.337078   |     -      |     -     |   8.36   \n",
            "   1    |   200   |   0.336636   |     -      |     -     |   8.36   \n",
            "   1    |   220   |   0.393367   |     -      |     -     |   8.40   \n",
            "   1    |   240   |   0.349791   |     -      |     -     |   8.45   \n",
            "   1    |   260   |   0.328258   |     -      |     -     |   8.47   \n",
            "   1    |   280   |   0.284814   |     -      |     -     |   8.53   \n",
            "   1    |   300   |   0.347268   |     -      |     -     |   8.58   \n",
            "   1    |   320   |   0.381764   |     -      |     -     |   8.63   \n",
            "   1    |   340   |   0.349966   |     -      |     -     |   8.66   \n",
            "   1    |   360   |   0.336459   |     -      |     -     |   8.74   \n",
            "   1    |   380   |   0.337490   |     -      |     -     |   8.83   \n",
            "   1    |   400   |   0.334363   |     -      |     -     |   8.86   \n",
            "   1    |   420   |   0.345951   |     -      |     -     |   8.89   \n",
            "   1    |   440   |   0.314337   |     -      |     -     |   8.94   \n",
            "   1    |   460   |   0.306041   |     -      |     -     |   8.86   \n",
            "   1    |   480   |   0.300740   |     -      |     -     |   8.85   \n",
            "   1    |   500   |   0.333646   |     -      |     -     |   8.82   \n",
            "   1    |   520   |   0.329481   |     -      |     -     |   8.79   \n",
            "   1    |   540   |   0.323683   |     -      |     -     |   8.80   \n",
            "   1    |   560   |   0.309218   |     -      |     -     |   8.82   \n",
            "   1    |   580   |   0.291577   |     -      |     -     |   8.73   \n",
            "----------------------------------------------------------------------\n",
            "   1    |    -    |   0.351501   |  0.306621  |   87.57   |  257.60  \n",
            "----------------------------------------------------------------------\n",
            "\n",
            "\n",
            " Epoch  |  Batch  |  Train Loss  |  Val Loss  |  Val Acc  |  Elapsed \n",
            "----------------------------------------------------------------------\n",
            "   2    |   20    |   0.198346   |     -      |     -     |   9.25   \n",
            "   2    |   40    |   0.242708   |     -      |     -     |   8.85   \n",
            "   2    |   60    |   0.235235   |     -      |     -     |   8.81   \n",
            "   2    |   80    |   0.234324   |     -      |     -     |   8.79   \n",
            "   2    |   100   |   0.230764   |     -      |     -     |   8.81   \n",
            "   2    |   120   |   0.279330   |     -      |     -     |   8.80   \n",
            "   2    |   140   |   0.238118   |     -      |     -     |   8.81   \n",
            "   2    |   160   |   0.192519   |     -      |     -     |   8.83   \n",
            "   2    |   180   |   0.205862   |     -      |     -     |   8.82   \n",
            "   2    |   200   |   0.227622   |     -      |     -     |   8.85   \n",
            "   2    |   220   |   0.184775   |     -      |     -     |   8.90   \n",
            "   2    |   240   |   0.222666   |     -      |     -     |   8.86   \n",
            "   2    |   260   |   0.210941   |     -      |     -     |   8.87   \n",
            "   2    |   280   |   0.214484   |     -      |     -     |   8.82   \n",
            "   2    |   300   |   0.216654   |     -      |     -     |   8.87   \n",
            "   2    |   320   |   0.239743   |     -      |     -     |   8.83   \n",
            "   2    |   340   |   0.213384   |     -      |     -     |   8.78   \n",
            "   2    |   360   |   0.238792   |     -      |     -     |   8.83   \n",
            "   2    |   380   |   0.269062   |     -      |     -     |   8.81   \n",
            "   2    |   400   |   0.200108   |     -      |     -     |   8.83   \n",
            "   2    |   420   |   0.243552   |     -      |     -     |   8.83   \n",
            "   2    |   440   |   0.229882   |     -      |     -     |   8.82   \n",
            "   2    |   460   |   0.216569   |     -      |     -     |   8.82   \n",
            "   2    |   480   |   0.149049   |     -      |     -     |   8.80   \n",
            "   2    |   500   |   0.222280   |     -      |     -     |   8.81   \n",
            "   2    |   520   |   0.211183   |     -      |     -     |   8.81   \n",
            "   2    |   540   |   0.233642   |     -      |     -     |   8.82   \n",
            "   2    |   560   |   0.215655   |     -      |     -     |   8.80   \n",
            "   2    |   580   |   0.197924   |     -      |     -     |   8.76   \n",
            "----------------------------------------------------------------------\n",
            "   2    |    -    |   0.221173   |  0.339108  |   88.29   |  264.70  \n",
            "----------------------------------------------------------------------\n",
            "\n",
            "\n",
            " Epoch  |  Batch  |  Train Loss  |  Val Loss  |  Val Acc  |  Elapsed \n",
            "----------------------------------------------------------------------\n",
            "   3    |   20    |   0.093553   |     -      |     -     |   9.23   \n",
            "   3    |   40    |   0.146743   |     -      |     -     |   8.85   \n",
            "   3    |   60    |   0.166622   |     -      |     -     |   8.79   \n",
            "   3    |   80    |   0.098239   |     -      |     -     |   8.80   \n",
            "   3    |   100   |   0.121676   |     -      |     -     |   8.78   \n",
            "   3    |   120   |   0.122890   |     -      |     -     |   8.79   \n",
            "   3    |   140   |   0.127696   |     -      |     -     |   8.81   \n",
            "   3    |   160   |   0.139217   |     -      |     -     |   8.79   \n",
            "   3    |   180   |   0.082996   |     -      |     -     |   8.80   \n",
            "   3    |   200   |   0.124622   |     -      |     -     |   8.75   \n",
            "   3    |   220   |   0.108102   |     -      |     -     |   8.81   \n",
            "   3    |   240   |   0.136354   |     -      |     -     |   8.81   \n",
            "   3    |   260   |   0.114837   |     -      |     -     |   8.79   \n",
            "   3    |   280   |   0.151111   |     -      |     -     |   8.82   \n",
            "   3    |   300   |   0.132940   |     -      |     -     |   8.82   \n",
            "   3    |   320   |   0.134920   |     -      |     -     |   8.76   \n",
            "   3    |   340   |   0.109760   |     -      |     -     |   8.76   \n",
            "   3    |   360   |   0.093802   |     -      |     -     |   8.79   \n",
            "   3    |   380   |   0.127313   |     -      |     -     |   8.81   \n",
            "   3    |   400   |   0.116612   |     -      |     -     |   8.77   \n",
            "   3    |   420   |   0.133155   |     -      |     -     |   8.81   \n",
            "   3    |   440   |   0.172741   |     -      |     -     |   8.80   \n",
            "   3    |   460   |   0.120980   |     -      |     -     |   8.82   \n",
            "   3    |   480   |   0.121993   |     -      |     -     |   8.79   \n",
            "   3    |   500   |   0.113608   |     -      |     -     |   8.79   \n",
            "   3    |   520   |   0.135486   |     -      |     -     |   8.83   \n",
            "   3    |   540   |   0.118642   |     -      |     -     |   8.80   \n",
            "   3    |   560   |   0.149104   |     -      |     -     |   8.79   \n",
            "   3    |   580   |   0.123654   |     -      |     -     |   8.73   \n",
            "----------------------------------------------------------------------\n",
            "   3    |    -    |   0.125441   |  0.404438  |   87.86   |  263.90  \n",
            "----------------------------------------------------------------------\n",
            "\n",
            "\n",
            " Epoch  |  Batch  |  Train Loss  |  Val Loss  |  Val Acc  |  Elapsed \n",
            "----------------------------------------------------------------------\n",
            "   4    |   20    |   0.091789   |     -      |     -     |   9.24   \n",
            "   4    |   40    |   0.111773   |     -      |     -     |   8.81   \n",
            "   4    |   60    |   0.073390   |     -      |     -     |   8.77   \n",
            "   4    |   80    |   0.062536   |     -      |     -     |   8.73   \n",
            "   4    |   100   |   0.068875   |     -      |     -     |   8.80   \n",
            "   4    |   120   |   0.043974   |     -      |     -     |   8.78   \n",
            "   4    |   140   |   0.054235   |     -      |     -     |   8.77   \n",
            "   4    |   160   |   0.079193   |     -      |     -     |   8.83   \n",
            "   4    |   180   |   0.092797   |     -      |     -     |   8.79   \n",
            "   4    |   200   |   0.090070   |     -      |     -     |   8.77   \n",
            "   4    |   220   |   0.053706   |     -      |     -     |   8.75   \n",
            "   4    |   240   |   0.087206   |     -      |     -     |   8.76   \n",
            "   4    |   260   |   0.063282   |     -      |     -     |   8.78   \n",
            "   4    |   280   |   0.077718   |     -      |     -     |   8.79   \n",
            "   4    |   300   |   0.067770   |     -      |     -     |   8.77   \n",
            "   4    |   320   |   0.041963   |     -      |     -     |   8.78   \n",
            "   4    |   340   |   0.051424   |     -      |     -     |   8.72   \n",
            "   4    |   360   |   0.060484   |     -      |     -     |   8.78   \n",
            "   4    |   380   |   0.116811   |     -      |     -     |   8.79   \n",
            "   4    |   400   |   0.074566   |     -      |     -     |   8.76   \n",
            "   4    |   420   |   0.046701   |     -      |     -     |   8.77   \n",
            "   4    |   440   |   0.067017   |     -      |     -     |   8.80   \n",
            "   4    |   460   |   0.089236   |     -      |     -     |   8.81   \n",
            "   4    |   480   |   0.089287   |     -      |     -     |   8.79   \n",
            "   4    |   500   |   0.075962   |     -      |     -     |   8.80   \n",
            "   4    |   520   |   0.090736   |     -      |     -     |   8.82   \n",
            "   4    |   540   |   0.091643   |     -      |     -     |   8.79   \n",
            "   4    |   560   |   0.054812   |     -      |     -     |   8.79   \n",
            "   4    |   580   |   0.042197   |     -      |     -     |   8.69   \n",
            "----------------------------------------------------------------------\n",
            "   4    |    -    |   0.072831   |  0.511611  |   87.76   |  263.44  \n",
            "----------------------------------------------------------------------\n",
            "\n",
            "\n",
            ">>>>>Training complete! in  0:17:29.648679  secondes.\n"
          ],
          "name": "stdout"
        }
      ]
    },
    {
      "cell_type": "markdown",
      "metadata": {
        "id": "FFzFKvdFB8dH"
      },
      "source": [
        "## 3.4. Evaluation sur le jeu de Validation "
      ]
    },
    {
      "cell_type": "code",
      "metadata": {
        "id": "UNSzs6ZfCBDH"
      },
      "source": [
        "import torch.nn.functional as F\n",
        "\n",
        "def bert_predict(model, test_dataloader):\n",
        "\n",
        "    model.eval()\n",
        "\n",
        "    all_logits = []\n",
        "\n",
        "    # Pour chaque batch ou lot de texte dans notre jeu de test, faire les meme traitement que les précédentes\n",
        "    for batch in test_dataloader:\n",
        "        device = torch.device('cuda' if torch.cuda.is_available() else 'cpu')\n",
        "        b_input_ids, b_attn_mask = tuple(t.to(device) for t in batch)[:2]\n",
        "\n",
        "        with torch.no_grad():\n",
        "            logits = model(b_input_ids, b_attn_mask)\n",
        "        all_logits.append(logits)\n",
        "    \n",
        "    all_logits = torch.cat(all_logits, dim=0)\n",
        "\n",
        "    # utilisation du softmax pour calculer les probabilité\n",
        "    probs = F.softmax(all_logits, dim=1).cpu().numpy()\n",
        "\n",
        "    return probs"
      ],
      "execution_count": 32,
      "outputs": []
    },
    {
      "cell_type": "code",
      "metadata": {
        "id": "B-TsZo5NunE1"
      },
      "source": [
        "from sklearn.metrics import accuracy_score, roc_curve, auc\n",
        "import matplotlib.pyplot as plt\n",
        "\n",
        "def evaluate_roc(probs, y_true):\n",
        "    \n",
        "    preds = probs[:, 1]\n",
        "    fpr, tpr, threshold = roc_curve(y_true, preds)\n",
        "    roc_auc = auc(fpr, tpr)\n",
        "    print(f'AUC: {roc_auc:.4f}')\n",
        "       \n",
        "    # recupération de la valeur de la précision sur les jeux de test\n",
        "    y_pred = np.where(preds >= 0.5, 1, 0)\n",
        "    accuracy = accuracy_score(y_true, y_pred)\n",
        "    print(f'Accuracy: {accuracy*100:.2f}%')\n",
        "    \n",
        "    # Representation ROC AUC\n",
        "    plt.title('Receiver Operating Characteristic')\n",
        "    plt.plot(fpr, tpr, 'b', label = 'AUC = %0.2f' % roc_auc)\n",
        "    plt.legend(loc = 'lower right')\n",
        "    plt.plot([0, 1], [0, 1],'r--')\n",
        "    plt.xlim([0, 1])\n",
        "    plt.ylim([0, 1])\n",
        "    plt.ylabel('True Positive Rate')\n",
        "    plt.xlabel('False Positive Rate')\n",
        "    plt.show()"
      ],
      "execution_count": 33,
      "outputs": []
    },
    {
      "cell_type": "code",
      "metadata": {
        "colab": {
          "base_uri": "https://localhost:8080/",
          "height": 327
        },
        "id": "tk680d_-CFnD",
        "outputId": "ed002e7b-b780-4776-aff9-d1cebb6c54ea"
      },
      "source": [
        "# prédiction sur le jeux de test\n",
        "probs = bert_predict(bert_classifier, val_discri_dataloader)\n",
        "# evalutaion du classifieur\n",
        "evaluate_roc(probs, y_discri_val)"
      ],
      "execution_count": 34,
      "outputs": [
        {
          "output_type": "stream",
          "text": [
            "AUC: 0.9172\n",
            "Accuracy: 87.85%\n"
          ],
          "name": "stdout"
        },
        {
          "output_type": "display_data",
          "data": {
            "image/png": "[encoded data removed]",
            "text/plain": [
              "<Figure size 432x288 with 1 Axes>"
            ]
          },
          "metadata": {
            "tags": [],
            "needs_background": "light"
          }
        }
      ]
    },
    {
      "cell_type": "markdown",
      "metadata": {
        "id": "nfhm86fpCTgb"
      },
      "source": [
        "### **3.5. entrainement de notre modèle sur tous le dataset (trian +val)**¶\n"
      ]
    },
    {
      "cell_type": "code",
      "metadata": {
        "colab": {
          "base_uri": "https://localhost:8080/"
        },
        "id": "2EZh1dB0CYg1",
        "outputId": "f90262b0-1984-4af3-d520-00075542a599"
      },
      "source": [
        "# Concatenation de training set et du validation set\n",
        "full_train_data = torch.utils.data.ConcatDataset([train_discri_data, val_discri_data])\n",
        "full_train_sampler = RandomSampler(full_train_data)\n",
        "full_train_dataloader = DataLoader(full_train_data, sampler=full_train_sampler, batch_size=32)\n",
        "\n",
        "# entrainement sur tous le dataset\n",
        "set_seed(42)\n",
        "bert_classifier, optimizer, scheduler = initialize_model(epochs=4)\n",
        "train(bert_classifier, full_train_dataloader, epochs=4)"
      ],
      "execution_count": 35,
      "outputs": [
        {
          "output_type": "stream",
          "text": [
            "Start training...\n",
            "\n",
            " Epoch  |  Batch  |  Train Loss  |  Val Loss  |  Val Acc  |  Elapsed \n",
            "----------------------------------------------------------------------\n",
            "   1    |   20    |   0.582839   |     -      |     -     |   8.86   \n",
            "   1    |   40    |   0.412828   |     -      |     -     |   8.48   \n",
            "   1    |   60    |   0.397053   |     -      |     -     |   8.52   \n",
            "   1    |   80    |   0.386111   |     -      |     -     |   8.60   \n",
            "   1    |   100   |   0.375520   |     -      |     -     |   8.66   \n",
            "   1    |   120   |   0.321995   |     -      |     -     |   8.71   \n",
            "   1    |   140   |   0.395715   |     -      |     -     |   8.80   \n",
            "   1    |   160   |   0.332135   |     -      |     -     |   8.88   \n",
            "   1    |   180   |   0.367693   |     -      |     -     |   8.98   \n",
            "   1    |   200   |   0.315409   |     -      |     -     |   8.96   \n",
            "   1    |   220   |   0.381190   |     -      |     -     |   8.95   \n",
            "   1    |   240   |   0.373051   |     -      |     -     |   8.82   \n",
            "   1    |   260   |   0.319025   |     -      |     -     |   8.78   \n",
            "   1    |   280   |   0.339333   |     -      |     -     |   8.84   \n",
            "   1    |   300   |   0.335432   |     -      |     -     |   8.83   \n",
            "   1    |   320   |   0.344692   |     -      |     -     |   8.84   \n",
            "   1    |   340   |   0.328498   |     -      |     -     |   8.93   \n",
            "   1    |   360   |   0.317282   |     -      |     -     |   8.85   \n",
            "   1    |   380   |   0.323329   |     -      |     -     |   8.84   \n",
            "   1    |   400   |   0.361469   |     -      |     -     |   8.84   \n",
            "   1    |   420   |   0.334009   |     -      |     -     |   8.84   \n",
            "   1    |   440   |   0.351406   |     -      |     -     |   8.86   \n",
            "   1    |   460   |   0.345707   |     -      |     -     |   8.84   \n",
            "   1    |   480   |   0.298622   |     -      |     -     |   8.82   \n",
            "   1    |   500   |   0.319210   |     -      |     -     |   8.85   \n",
            "   1    |   520   |   0.296735   |     -      |     -     |   8.86   \n",
            "   1    |   540   |   0.355655   |     -      |     -     |   8.85   \n",
            "   1    |   560   |   0.305205   |     -      |     -     |   8.83   \n",
            "   1    |   580   |   0.337861   |     -      |     -     |   8.83   \n",
            "   1    |   600   |   0.304922   |     -      |     -     |   8.88   \n",
            "   1    |   620   |   0.346360   |     -      |     -     |   8.82   \n",
            "   1    |   640   |   0.277737   |     -      |     -     |   8.85   \n",
            "   1    |   645   |   0.369963   |     -      |     -     |   1.96   \n",
            "----------------------------------------------------------------------\n",
            "\n",
            "\n",
            " Epoch  |  Batch  |  Train Loss  |  Val Loss  |  Val Acc  |  Elapsed \n",
            "----------------------------------------------------------------------\n",
            "   2    |   20    |   0.231912   |     -      |     -     |   9.32   \n",
            "   2    |   40    |   0.217822   |     -      |     -     |   8.84   \n",
            "   2    |   60    |   0.235987   |     -      |     -     |   8.85   \n",
            "   2    |   80    |   0.270704   |     -      |     -     |   8.85   \n",
            "   2    |   100   |   0.241343   |     -      |     -     |   8.88   \n",
            "   2    |   120   |   0.229787   |     -      |     -     |   8.86   \n",
            "   2    |   140   |   0.201201   |     -      |     -     |   8.81   \n",
            "   2    |   160   |   0.234075   |     -      |     -     |   8.86   \n",
            "   2    |   180   |   0.203326   |     -      |     -     |   8.84   \n",
            "   2    |   200   |   0.245913   |     -      |     -     |   8.85   \n",
            "   2    |   220   |   0.217163   |     -      |     -     |   8.85   \n",
            "   2    |   240   |   0.272406   |     -      |     -     |   8.86   \n",
            "   2    |   260   |   0.210877   |     -      |     -     |   8.86   \n",
            "   2    |   280   |   0.222151   |     -      |     -     |   8.81   \n",
            "   2    |   300   |   0.227636   |     -      |     -     |   8.83   \n",
            "   2    |   320   |   0.242976   |     -      |     -     |   8.82   \n",
            "   2    |   340   |   0.238598   |     -      |     -     |   8.84   \n",
            "   2    |   360   |   0.204028   |     -      |     -     |   8.83   \n",
            "   2    |   380   |   0.175730   |     -      |     -     |   8.85   \n",
            "   2    |   400   |   0.202398   |     -      |     -     |   8.84   \n",
            "   2    |   420   |   0.211165   |     -      |     -     |   8.82   \n",
            "   2    |   440   |   0.211053   |     -      |     -     |   8.84   \n",
            "   2    |   460   |   0.247146   |     -      |     -     |   8.82   \n",
            "   2    |   480   |   0.184571   |     -      |     -     |   8.83   \n",
            "   2    |   500   |   0.210733   |     -      |     -     |   8.83   \n",
            "   2    |   520   |   0.193801   |     -      |     -     |   8.86   \n",
            "   2    |   540   |   0.236036   |     -      |     -     |   8.85   \n",
            "   2    |   560   |   0.190409   |     -      |     -     |   8.84   \n",
            "   2    |   580   |   0.206435   |     -      |     -     |   8.86   \n",
            "   2    |   600   |   0.195889   |     -      |     -     |   8.86   \n",
            "   2    |   620   |   0.163419   |     -      |     -     |   8.86   \n",
            "   2    |   640   |   0.259752   |     -      |     -     |   8.84   \n",
            "   2    |   645   |   0.345620   |     -      |     -     |   1.96   \n",
            "----------------------------------------------------------------------\n",
            "\n",
            "\n",
            " Epoch  |  Batch  |  Train Loss  |  Val Loss  |  Val Acc  |  Elapsed \n",
            "----------------------------------------------------------------------\n",
            "   3    |   20    |   0.123323   |     -      |     -     |   9.28   \n",
            "   3    |   40    |   0.116367   |     -      |     -     |   8.86   \n",
            "   3    |   60    |   0.108458   |     -      |     -     |   8.87   \n",
            "   3    |   80    |   0.124228   |     -      |     -     |   8.84   \n",
            "   3    |   100   |   0.101979   |     -      |     -     |   8.85   \n",
            "   3    |   120   |   0.125410   |     -      |     -     |   8.84   \n",
            "   3    |   140   |   0.101953   |     -      |     -     |   8.84   \n",
            "   3    |   160   |   0.138283   |     -      |     -     |   8.85   \n",
            "   3    |   180   |   0.136043   |     -      |     -     |   8.84   \n",
            "   3    |   200   |   0.109319   |     -      |     -     |   8.81   \n",
            "   3    |   220   |   0.126274   |     -      |     -     |   8.84   \n",
            "   3    |   240   |   0.119455   |     -      |     -     |   8.86   \n",
            "   3    |   260   |   0.122389   |     -      |     -     |   8.86   \n",
            "   3    |   280   |   0.117803   |     -      |     -     |   8.85   \n",
            "   3    |   300   |   0.109449   |     -      |     -     |   8.85   \n",
            "   3    |   320   |   0.137817   |     -      |     -     |   8.83   \n",
            "   3    |   340   |   0.130851   |     -      |     -     |   8.85   \n",
            "   3    |   360   |   0.114490   |     -      |     -     |   8.85   \n",
            "   3    |   380   |   0.112203   |     -      |     -     |   8.85   \n",
            "   3    |   400   |   0.134071   |     -      |     -     |   8.81   \n",
            "   3    |   420   |   0.103785   |     -      |     -     |   8.86   \n",
            "   3    |   440   |   0.101033   |     -      |     -     |   8.84   \n",
            "   3    |   460   |   0.135873   |     -      |     -     |   8.82   \n",
            "   3    |   480   |   0.099127   |     -      |     -     |   8.84   \n",
            "   3    |   500   |   0.175117   |     -      |     -     |   8.87   \n",
            "   3    |   520   |   0.087353   |     -      |     -     |   8.84   \n",
            "   3    |   540   |   0.117326   |     -      |     -     |   8.86   \n",
            "   3    |   560   |   0.139136   |     -      |     -     |   8.85   \n",
            "   3    |   580   |   0.107292   |     -      |     -     |   8.90   \n",
            "   3    |   600   |   0.154042   |     -      |     -     |   8.86   \n",
            "   3    |   620   |   0.112124   |     -      |     -     |   8.85   \n",
            "   3    |   640   |   0.119803   |     -      |     -     |   8.84   \n",
            "   3    |   645   |   0.038304   |     -      |     -     |   1.95   \n",
            "----------------------------------------------------------------------\n",
            "\n",
            "\n",
            " Epoch  |  Batch  |  Train Loss  |  Val Loss  |  Val Acc  |  Elapsed \n",
            "----------------------------------------------------------------------\n",
            "   4    |   20    |   0.044382   |     -      |     -     |   9.26   \n",
            "   4    |   40    |   0.055798   |     -      |     -     |   8.81   \n",
            "   4    |   60    |   0.048306   |     -      |     -     |   8.81   \n",
            "   4    |   80    |   0.040924   |     -      |     -     |   8.81   \n",
            "   4    |   100   |   0.074121   |     -      |     -     |   8.82   \n",
            "   4    |   120   |   0.040234   |     -      |     -     |   8.75   \n",
            "   4    |   140   |   0.102690   |     -      |     -     |   8.77   \n",
            "   4    |   160   |   0.034394   |     -      |     -     |   8.78   \n",
            "   4    |   180   |   0.050466   |     -      |     -     |   8.80   \n",
            "   4    |   200   |   0.080065   |     -      |     -     |   8.84   \n",
            "   4    |   220   |   0.043062   |     -      |     -     |   8.79   \n",
            "   4    |   240   |   0.068743   |     -      |     -     |   8.84   \n",
            "   4    |   260   |   0.047496   |     -      |     -     |   8.82   \n",
            "   4    |   280   |   0.044963   |     -      |     -     |   8.81   \n",
            "   4    |   300   |   0.127394   |     -      |     -     |   8.81   \n",
            "   4    |   320   |   0.065739   |     -      |     -     |   8.83   \n",
            "   4    |   340   |   0.064026   |     -      |     -     |   8.84   \n",
            "   4    |   360   |   0.056732   |     -      |     -     |   8.87   \n",
            "   4    |   380   |   0.065121   |     -      |     -     |   8.89   \n",
            "   4    |   400   |   0.101036   |     -      |     -     |   8.84   \n",
            "   4    |   420   |   0.126854   |     -      |     -     |   8.82   \n",
            "   4    |   440   |   0.092037   |     -      |     -     |   8.83   \n",
            "   4    |   460   |   0.086310   |     -      |     -     |   8.84   \n",
            "   4    |   480   |   0.088286   |     -      |     -     |   8.80   \n",
            "   4    |   500   |   0.110530   |     -      |     -     |   8.83   \n",
            "   4    |   520   |   0.049022   |     -      |     -     |   8.78   \n",
            "   4    |   540   |   0.078787   |     -      |     -     |   8.82   \n",
            "   4    |   560   |   0.051806   |     -      |     -     |   8.82   \n",
            "   4    |   580   |   0.041633   |     -      |     -     |   8.77   \n",
            "   4    |   600   |   0.074786   |     -      |     -     |   8.86   \n",
            "   4    |   620   |   0.059405   |     -      |     -     |   8.84   \n",
            "   4    |   640   |   0.116281   |     -      |     -     |   8.87   \n",
            "   4    |   645   |   0.086985   |     -      |     -     |   1.96   \n",
            "----------------------------------------------------------------------\n",
            "\n",
            "\n",
            ">>>>>Training complete! in  0:18:59.655874  secondes.\n"
          ],
          "name": "stdout"
        }
      ]
    },
    {
      "cell_type": "markdown",
      "metadata": {
        "id": "26loU_tZDo2c"
      },
      "source": [
        "### **4. Predictions sur le jeu de Test**\n"
      ]
    },
    {
      "cell_type": "code",
      "metadata": {
        "colab": {
          "base_uri": "https://localhost:8080/"
        },
        "id": "EdjSjpAJDu8B",
        "outputId": "0d3005bd-933e-48ba-f913-8426b48568b0"
      },
      "source": [
        "# Lancement du `preprocessing_for_bert` sur notre jeu de test\n",
        "print('Tokenizing data...')\n",
        "test_inputs, test_masks = preprocessing_for_bert(data_test.Tweets)\n",
        "\n",
        "# Creation du DataLoader pour notre jeu de test\n",
        "test_dataset = TensorDataset(test_inputs, test_masks)\n",
        "test_sampler = SequentialSampler(test_dataset)\n",
        "test_dataloader = DataLoader(test_dataset, sampler=test_sampler, batch_size=32)"
      ],
      "execution_count": 36,
      "outputs": [
        {
          "output_type": "stream",
          "text": [
            "Tokenizing data...\n"
          ],
          "name": "stdout"
        },
        {
          "output_type": "stream",
          "text": [
            "/usr/local/lib/python3.6/dist-packages/transformers/tokenization_utils_base.py:2179: FutureWarning: The `pad_to_max_length` argument is deprecated and will be removed in a future version, use `padding=True` or `padding='longest'` to pad to the longest sequence in the batch, or use `padding='max_length'` to pad to a max length. In this case, you can give a specific length with `max_length` (e.g. `max_length=45`) or leave max_length to None to pad to the maximal input size of the model (e.g. 512 for Bert).\n",
            "  FutureWarning,\n"
          ],
          "name": "stderr"
        },
        {
          "output_type": "stream",
          "text": [
            ">>>>> La Tokenization à pris : 0:00:01.033647  secondes.\n"
          ],
          "name": "stdout"
        }
      ]
    },
    {
      "cell_type": "markdown",
      "metadata": {
        "id": "mrPnHMfMD4SG"
      },
      "source": [
        "### **4.2. Predictions**"
      ]
    },
    {
      "cell_type": "code",
      "metadata": {
        "colab": {
          "base_uri": "https://localhost:8080/"
        },
        "id": "77rOC6qeD_Zf",
        "outputId": "e60c9559-6af0-4c58-e242-569f40e50aa3"
      },
      "source": [
        "# Calcule de la probabilité sur le jeux de test\n",
        "probs = bert_predict(bert_classifier, test_dataloader)\n",
        "\n",
        "#Récupération de la prédiction issue de la softmax fonction (probabilité)\n",
        "threshold = 0.9\n",
        "preds = np.where(probs[:, 1] > threshold, 1, 0)\n",
        "\n",
        "# Nombre de tweet mal prédit\n",
        "print(\"Numbre de tweets mal prédit : \", preds.sum())"
      ],
      "execution_count": 37,
      "outputs": [
        {
          "output_type": "stream",
          "text": [
            "Numbre de tweets mal prédit :  497\n"
          ],
          "name": "stdout"
        }
      ]
    },
    {
      "cell_type": "code",
      "metadata": {
        "id": "ib-_WUoqz-Is"
      },
      "source": [
        ""
      ],
      "execution_count": null,
      "outputs": []
    }
  ]
}